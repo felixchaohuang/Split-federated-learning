{
 "cells": [
  {
   "cell_type": "markdown",
   "metadata": {},
   "source": [
    "# ECG Split 1D-CNN Client Side"
   ]
  },
  {
   "cell_type": "markdown",
   "metadata": {},
   "source": [
    "This code is the server part of ECG split 1D-CNN model for **single** client and a server."
   ]
  },
  {
   "cell_type": "markdown",
   "metadata": {},
   "source": [
    "## Import required packages"
   ]
  },
  {
   "cell_type": "code",
   "execution_count": 1,
   "metadata": {},
   "outputs": [],
   "source": [
    "mode = 'CIFAR10'\n",
    "\n",
    "import os\n",
    "import struct\n",
    "import socket\n",
    "import pickle\n",
    "import time\n",
    "\n",
    "import h5py\n",
    "import numpy as np\n",
    "\n",
    "import torch\n",
    "import torchvision\n",
    "import torch.nn as nn\n",
    "from torch.utils.data import Dataset, DataLoader\n",
    "from torch.optim import Adam, SGD\n",
    "from torchvision.datasets import CIFAR10"
   ]
  },
  {
   "cell_type": "markdown",
   "metadata": {},
   "source": [
    "## Define ECG dataset class"
   ]
  },
  {
   "cell_type": "code",
   "execution_count": 2,
   "metadata": {},
   "outputs": [
    {
     "name": "stdout",
     "output_type": "stream",
     "text": [
      "Files already downloaded and verified\n",
      "Files already downloaded and verified\n",
      "Loaded CIFAR10 datasets with batch size 32\n"
     ]
    }
   ],
   "source": [
    "if mode == 'ECG':\n",
    "    class ECG(Dataset):\n",
    "        def __init__(self, train=True):\n",
    "            if train:\n",
    "                with h5py.File(os.path.join('../../', 'mitdb', 'train_ecg.hdf5'), 'r') as hdf:\n",
    "                    self.x = hdf['x_train'][:]\n",
    "                    self.y = hdf['y_train'][:]\n",
    "            else:\n",
    "                with h5py.File(os.path.join('../../', 'mitdb', 'test_ecg.hdf5'), 'r') as hdf:\n",
    "                    self.x = hdf['x_test'][:]\n",
    "                    self.y = hdf['y_test'][:]\n",
    "        \n",
    "        def __len__(self):\n",
    "            return len(self.x)\n",
    "        \n",
    "        def __getitem__(self, idx):\n",
    "            return torch.tensor(self.x[idx], dtype=torch.float), torch.tensor(self.y[idx])\n",
    "        \n",
    "    batch_size = 32\n",
    "    train_dataset = ECG(train=True)\n",
    "    test_dataset = ECG(train=False)\n",
    "    train_loader = DataLoader(train_dataset, batch_size=batch_size)\n",
    "    test_loader = DataLoader(test_dataset, batch_size=batch_size)\n",
    "    total_batch = len(train_loader)\n",
    "    print(total_batch)\n",
    "elif mode == 'CIFAR10':\n",
    "    root_path = '../../data/'  # Replace with actual path to CIFAR10 data\n",
    "\n",
    "    batch_size = 32\n",
    "    cifar10_mean = (0.485, 0.456, 0.406)\n",
    "    cifar10_std = (0.229, 0.224, 0.225)\n",
    "\n",
    "    transform = torchvision.transforms.Compose([\n",
    "        torchvision.transforms.ToTensor(),\n",
    "        torchvision.transforms.Normalize(mean=cifar10_mean, std=cifar10_std)\n",
    "    ])\n",
    "    train_dataset = CIFAR10(root=root_path, train=True, download=True, transform=transform)\n",
    "    test_dataset = CIFAR10(root=root_path, train=False, download=True, transform=transform)\n",
    "\n",
    "    train_loader = DataLoader(train_dataset, batch_size=batch_size, shuffle=False)\n",
    "    test_loader = DataLoader(test_dataset, batch_size=batch_size, shuffle=False)\n",
    "    print(\"Loaded CIFAR10 datasets with batch size\", batch_size)"
   ]
  },
  {
   "cell_type": "code",
   "execution_count": 3,
   "metadata": {},
   "outputs": [],
   "source": [
    "from torchvision.models import resnet18\n",
    "\n",
    "if mode == 'ECG':\n",
    "    class EcgClient(nn.Module):\n",
    "        def __init__(self):\n",
    "            super(EcgClient, self).__init__()\n",
    "            self.conv1 = nn.Conv1d(1, 16, 7, padding=3)  # 128 x 16\n",
    "            self.relu1 = nn.ReLU()\n",
    "            self.pool1 = nn.MaxPool1d(2)  # 64 x 16\n",
    "            self.conv2 = nn.Conv1d(16, 16, 5, padding=2)  # 64 x 16\n",
    "            self.relu2 = nn.ReLU()\n",
    "            self.pool2 = nn.MaxPool1d(2)  # 32 x 16\n",
    "        \n",
    "        def forward(self, x):\n",
    "            x = self.conv1(x)\n",
    "            x = self.relu1(x)\n",
    "            x = self.pool1(x)\n",
    "            x = self.conv2(x)\n",
    "            x = self.relu2(x)\n",
    "            x = self.pool2(x)\n",
    "            x = x.view(-1, 32 * 16)\n",
    "            return x\n",
    "        \n",
    "elif mode == 'CIFAR10':\n",
    "    class AlexNetClient(nn.Module):\n",
    "        def __init__(self):\n",
    "            super(AlexNetClient, self).__init__()\n",
    "            self.features = nn.Sequential(\n",
    "                nn.Conv2d(3, 64, kernel_size=3, stride=2, padding=1),\n",
    "                nn.ReLU(inplace=True),\n",
    "                nn.MaxPool2d(kernel_size=2),\n",
    "                nn.Conv2d(64, 192, kernel_size=3, padding=1),\n",
    "                nn.ReLU(inplace=True),\n",
    "                nn.MaxPool2d(kernel_size=2),\n",
    "                nn.Conv2d(192, 384, kernel_size=3, padding=1),\n",
    "                nn.ReLU(inplace=True),\n",
    "                nn.Conv2d(384, 256, kernel_size=3, padding=1),\n",
    "                nn.ReLU(inplace=True),\n",
    "                nn.Conv2d(256, 256, kernel_size=3, padding=1),\n",
    "                nn.ReLU(inplace=True),\n",
    "                nn.MaxPool2d(kernel_size=2),\n",
    "            )\n",
    "\n",
    "        def forward(self, x):\n",
    "            x = self.features(x)\n",
    "            return x\n",
    "    # class Resnet18_Any_Cut_Client(nn.Module): # M\n",
    "    #     def __init__(self, config):\n",
    "    #         super().__init__()\n",
    "    #         self.cut_layer = config[\"cut_layer\"]\n",
    "\n",
    "    #         self.model = resnet18(weights = None)\n",
    "\n",
    "    #         self.model = nn.ModuleList(self.model.children())\n",
    "    #         self.model = nn.Sequential(*self.model)\n",
    "\n",
    "    #     def forward(self, x):\n",
    "    #         for i, layer in enumerate(self.model):\n",
    "    #             if i > self.cut_layer:\n",
    "    #                 break\n",
    "    #             else:\n",
    "    #                 x = layer(x)\n",
    "\n",
    "    #         return x  "
   ]
  },
  {
   "cell_type": "code",
   "execution_count": 4,
   "metadata": {},
   "outputs": [],
   "source": [
    "device = torch.device('cuda:0')\n",
    "torch.cuda.get_device_name(0)\n",
    "assert('cuda' in device.type)\n",
    "seed = 0\n",
    "np.random.seed(seed)\n",
    "torch.manual_seed(seed)\n",
    "torch.cuda.manual_seed(seed)\n",
    "torch.cuda.manual_seed_all(seed)\n",
    "torch.backends.cudnn.benchmark = False\n",
    "torch.backends.cudnn.deterministic = True\n",
    "\n",
    "cut_layer = 5\n",
    "logits = 10\n",
    "\n",
    "# config = {\"cut_layer\":cut_layer, \"logits\":logits}\n",
    "ecg_client = AlexNetClient()\n",
    "ecg_client.to(device)\n",
    "\n",
    "# checkpoint = torch.load(f\"../ecg_2conv/init_weight{mode}.pth\")\n",
    "# ecg_client.conv1.weight.data = checkpoint[\"conv1.weight\"]\n",
    "# ecg_client.conv1.bias.data = checkpoint[\"conv1.bias\"]\n",
    "# ecg_client.conv2.weight.data = checkpoint[\"conv2.weight\"]\n",
    "# ecg_client.conv2.bias.data = checkpoint[\"conv2.bias\"]\n",
    "epoch = 400\n",
    "criterion = nn.CrossEntropyLoss()\n",
    "lr = 0.001\n",
    "optimizer = Adam(ecg_client.parameters(), lr=lr)\n",
    "def send_msg(sock, msg):\n",
    "    # prefix each message with a 4-byte length in network byte order\n",
    "    msg = struct.pack('>I', len(msg)) + msg\n",
    "    sock.sendall(msg)\n",
    "\n",
    "def recv_msg(sock):\n",
    "    # read message length and unpack it into an integer\n",
    "    raw_msglen = recvall(sock, 4)\n",
    "    if not raw_msglen:\n",
    "        return None\n",
    "    msglen = struct.unpack('>I', raw_msglen)[0]\n",
    "    # read the message data\n",
    "    return recvall(sock, msglen)\n",
    "\n",
    "def recvall(sock, n):\n",
    "    # helper function to receive n bytes or return None if EOF is hit\n",
    "    data = b''\n",
    "    while len(data) < n:\n",
    "        packet = sock.recv(n - len(data))\n",
    "        if not packet:\n",
    "            return None\n",
    "        data += packet\n",
    "    return data\n",
    "host = 'localhost'\n",
    "port = 10080\n",
    "max_recv = 4096\n",
    "s = socket.socket()\n",
    "s.connect((host, port))"
   ]
  },
  {
   "cell_type": "markdown",
   "metadata": {},
   "source": [
    "Training Process"
   ]
  },
  {
   "cell_type": "code",
   "execution_count": 5,
   "metadata": {},
   "outputs": [
    {
     "name": "stdout",
     "output_type": "stream",
     "text": [
      "Epoch 1 - "
     ]
    },
    {
     "name": "stderr",
     "output_type": "stream",
     "text": [
      "1563it [00:16, 96.06it/s] \n"
     ]
    },
    {
     "name": "stdout",
     "output_type": "stream",
     "text": [
      "loss: 1.6747, acc: 35.32% / test_loss: 0.2795, test_acc: 48.48%\n",
      "Epoch 2 - "
     ]
    },
    {
     "name": "stderr",
     "output_type": "stream",
     "text": [
      "1563it [00:15, 98.23it/s] \n"
     ]
    },
    {
     "name": "stdout",
     "output_type": "stream",
     "text": [
      "loss: 1.2900, acc: 53.77% / test_loss: 0.2339, test_acc: 58.39%\n",
      "Epoch 3 - "
     ]
    },
    {
     "name": "stderr",
     "output_type": "stream",
     "text": [
      "1563it [00:15, 99.08it/s] \n"
     ]
    },
    {
     "name": "stdout",
     "output_type": "stream",
     "text": [
      "loss: 1.1324, acc: 60.20% / test_loss: 0.2249, test_acc: 61.40%\n",
      "Epoch 4 - "
     ]
    },
    {
     "name": "stderr",
     "output_type": "stream",
     "text": [
      "1563it [00:15, 100.33it/s]\n"
     ]
    },
    {
     "name": "stdout",
     "output_type": "stream",
     "text": [
      "loss: 1.0315, acc: 63.73% / test_loss: 0.2235, test_acc: 62.51%\n",
      "Epoch 5 - "
     ]
    },
    {
     "name": "stderr",
     "output_type": "stream",
     "text": [
      "1563it [00:15, 100.83it/s]\n"
     ]
    },
    {
     "name": "stdout",
     "output_type": "stream",
     "text": [
      "loss: 0.9661, acc: 66.24% / test_loss: 0.2242, test_acc: 63.38%\n",
      "Epoch 6 - "
     ]
    },
    {
     "name": "stderr",
     "output_type": "stream",
     "text": [
      "1563it [00:15, 100.79it/s]\n"
     ]
    },
    {
     "name": "stdout",
     "output_type": "stream",
     "text": [
      "loss: 0.9013, acc: 68.68% / test_loss: 0.2295, test_acc: 63.76%\n",
      "Epoch 7 - "
     ]
    },
    {
     "name": "stderr",
     "output_type": "stream",
     "text": [
      "1563it [00:15, 100.89it/s]\n"
     ]
    },
    {
     "name": "stdout",
     "output_type": "stream",
     "text": [
      "loss: 0.8553, acc: 70.39% / test_loss: 0.2117, test_acc: 64.76%\n",
      "Epoch 8 - "
     ]
    },
    {
     "name": "stderr",
     "output_type": "stream",
     "text": [
      "1563it [00:15, 100.68it/s]\n"
     ]
    },
    {
     "name": "stdout",
     "output_type": "stream",
     "text": [
      "loss: 0.8076, acc: 71.95% / test_loss: 0.2191, test_acc: 65.45%\n",
      "Epoch 9 - "
     ]
    },
    {
     "name": "stderr",
     "output_type": "stream",
     "text": [
      "1563it [00:15, 101.05it/s]\n"
     ]
    },
    {
     "name": "stdout",
     "output_type": "stream",
     "text": [
      "loss: 0.7699, acc: 73.43% / test_loss: 0.2259, test_acc: 65.35%\n",
      "Epoch 10 - "
     ]
    },
    {
     "name": "stderr",
     "output_type": "stream",
     "text": [
      "1563it [00:15, 101.14it/s]\n"
     ]
    },
    {
     "name": "stdout",
     "output_type": "stream",
     "text": [
      "loss: 0.7487, acc: 74.09% / test_loss: 0.2201, test_acc: 66.64%\n",
      "Epoch 11 - "
     ]
    },
    {
     "name": "stderr",
     "output_type": "stream",
     "text": [
      "1563it [00:15, 101.06it/s]\n"
     ]
    },
    {
     "name": "stdout",
     "output_type": "stream",
     "text": [
      "loss: 0.7088, acc: 75.83% / test_loss: 0.2283, test_acc: 66.27%\n",
      "Epoch 12 - "
     ]
    },
    {
     "name": "stderr",
     "output_type": "stream",
     "text": [
      "1563it [00:15, 100.96it/s]\n"
     ]
    },
    {
     "name": "stdout",
     "output_type": "stream",
     "text": [
      "loss: 0.6851, acc: 76.29% / test_loss: 0.2405, test_acc: 66.48%\n",
      "Epoch 13 - "
     ]
    },
    {
     "name": "stderr",
     "output_type": "stream",
     "text": [
      "1563it [00:15, 101.14it/s]\n"
     ]
    },
    {
     "name": "stdout",
     "output_type": "stream",
     "text": [
      "loss: 0.6550, acc: 77.57% / test_loss: 0.2363, test_acc: 66.90%\n",
      "Epoch 14 - "
     ]
    },
    {
     "name": "stderr",
     "output_type": "stream",
     "text": [
      "1563it [00:15, 101.12it/s]\n"
     ]
    },
    {
     "name": "stdout",
     "output_type": "stream",
     "text": [
      "loss: 0.6220, acc: 78.60% / test_loss: 0.2327, test_acc: 67.34%\n",
      "Epoch 15 - "
     ]
    },
    {
     "name": "stderr",
     "output_type": "stream",
     "text": [
      "1563it [00:15, 101.04it/s]\n"
     ]
    },
    {
     "name": "stdout",
     "output_type": "stream",
     "text": [
      "loss: 0.5927, acc: 79.85% / test_loss: 0.2513, test_acc: 67.18%\n",
      "Epoch 16 - "
     ]
    },
    {
     "name": "stderr",
     "output_type": "stream",
     "text": [
      "1563it [00:15, 100.91it/s]\n"
     ]
    },
    {
     "name": "stdout",
     "output_type": "stream",
     "text": [
      "loss: 0.5683, acc: 80.68% / test_loss: 0.2561, test_acc: 66.88%\n",
      "Epoch 17 - "
     ]
    },
    {
     "name": "stderr",
     "output_type": "stream",
     "text": [
      "1563it [00:15, 101.25it/s]\n"
     ]
    },
    {
     "name": "stdout",
     "output_type": "stream",
     "text": [
      "loss: 0.5517, acc: 81.27% / test_loss: 0.2553, test_acc: 66.66%\n",
      "Epoch 18 - "
     ]
    },
    {
     "name": "stderr",
     "output_type": "stream",
     "text": [
      "1563it [00:15, 100.80it/s]\n"
     ]
    },
    {
     "name": "stdout",
     "output_type": "stream",
     "text": [
      "loss: 0.5268, acc: 82.22% / test_loss: 0.2757, test_acc: 65.62%\n",
      "Epoch 19 - "
     ]
    },
    {
     "name": "stderr",
     "output_type": "stream",
     "text": [
      "1563it [00:15, 100.81it/s]\n"
     ]
    },
    {
     "name": "stdout",
     "output_type": "stream",
     "text": [
      "loss: 0.5181, acc: 82.63% / test_loss: 0.2778, test_acc: 66.59%\n",
      "Epoch 20 - "
     ]
    },
    {
     "name": "stderr",
     "output_type": "stream",
     "text": [
      "1563it [00:15, 101.03it/s]\n"
     ]
    },
    {
     "name": "stdout",
     "output_type": "stream",
     "text": [
      "loss: 0.4978, acc: 83.29% / test_loss: 0.2767, test_acc: 67.57%\n",
      "Epoch 21 - "
     ]
    },
    {
     "name": "stderr",
     "output_type": "stream",
     "text": [
      "1563it [00:15, 100.89it/s]\n"
     ]
    },
    {
     "name": "stdout",
     "output_type": "stream",
     "text": [
      "loss: 0.4918, acc: 83.82% / test_loss: 0.2823, test_acc: 67.79%\n",
      "Epoch 22 - "
     ]
    },
    {
     "name": "stderr",
     "output_type": "stream",
     "text": [
      "1563it [00:15, 101.13it/s]\n"
     ]
    },
    {
     "name": "stdout",
     "output_type": "stream",
     "text": [
      "loss: 0.4601, acc: 84.77% / test_loss: 0.2937, test_acc: 66.61%\n",
      "Epoch 23 - "
     ]
    },
    {
     "name": "stderr",
     "output_type": "stream",
     "text": [
      "1563it [00:15, 101.24it/s]\n"
     ]
    },
    {
     "name": "stdout",
     "output_type": "stream",
     "text": [
      "loss: 0.4512, acc: 85.01% / test_loss: 0.3119, test_acc: 67.03%\n",
      "Epoch 24 - "
     ]
    },
    {
     "name": "stderr",
     "output_type": "stream",
     "text": [
      "1563it [00:15, 101.07it/s]\n"
     ]
    },
    {
     "name": "stdout",
     "output_type": "stream",
     "text": [
      "loss: 0.4352, acc: 85.87% / test_loss: 0.3061, test_acc: 67.58%\n",
      "Epoch 25 - "
     ]
    },
    {
     "name": "stderr",
     "output_type": "stream",
     "text": [
      "1563it [00:15, 101.15it/s]\n"
     ]
    },
    {
     "name": "stdout",
     "output_type": "stream",
     "text": [
      "loss: 0.5672, acc: 81.70% / test_loss: 0.2589, test_acc: 68.16%\n",
      "Epoch 26 - "
     ]
    },
    {
     "name": "stderr",
     "output_type": "stream",
     "text": [
      "1563it [00:15, 101.40it/s]\n"
     ]
    },
    {
     "name": "stdout",
     "output_type": "stream",
     "text": [
      "loss: 0.4145, acc: 86.60% / test_loss: 0.2967, test_acc: 67.65%\n",
      "Epoch 27 - "
     ]
    },
    {
     "name": "stderr",
     "output_type": "stream",
     "text": [
      "1563it [00:15, 100.97it/s]\n"
     ]
    },
    {
     "name": "stdout",
     "output_type": "stream",
     "text": [
      "loss: 0.4243, acc: 86.53% / test_loss: 0.2955, test_acc: 68.78%\n",
      "Epoch 28 - "
     ]
    },
    {
     "name": "stderr",
     "output_type": "stream",
     "text": [
      "1563it [00:15, 101.15it/s]\n"
     ]
    },
    {
     "name": "stdout",
     "output_type": "stream",
     "text": [
      "loss: 0.3976, acc: 87.51% / test_loss: 0.3389, test_acc: 68.11%\n",
      "Epoch 29 - "
     ]
    },
    {
     "name": "stderr",
     "output_type": "stream",
     "text": [
      "1563it [00:15, 101.07it/s]\n"
     ]
    },
    {
     "name": "stdout",
     "output_type": "stream",
     "text": [
      "loss: 0.3906, acc: 87.60% / test_loss: 0.3846, test_acc: 66.99%\n",
      "Epoch 30 - "
     ]
    },
    {
     "name": "stderr",
     "output_type": "stream",
     "text": [
      "1563it [00:15, 101.10it/s]\n"
     ]
    },
    {
     "name": "stdout",
     "output_type": "stream",
     "text": [
      "loss: 0.3865, acc: 88.03% / test_loss: 0.4122, test_acc: 66.08%\n",
      "Epoch 31 - "
     ]
    },
    {
     "name": "stderr",
     "output_type": "stream",
     "text": [
      "1563it [00:15, 101.06it/s]\n"
     ]
    },
    {
     "name": "stdout",
     "output_type": "stream",
     "text": [
      "loss: 0.3753, acc: 88.24% / test_loss: 0.3423, test_acc: 67.75%\n",
      "Epoch 32 - "
     ]
    },
    {
     "name": "stderr",
     "output_type": "stream",
     "text": [
      "1563it [00:15, 102.67it/s]\n"
     ]
    },
    {
     "name": "stdout",
     "output_type": "stream",
     "text": [
      "loss: 0.3652, acc: 88.70% / test_loss: 0.4308, test_acc: 66.68%\n",
      "Epoch 33 - "
     ]
    },
    {
     "name": "stderr",
     "output_type": "stream",
     "text": [
      "1563it [00:15, 102.66it/s]\n"
     ]
    },
    {
     "name": "stdout",
     "output_type": "stream",
     "text": [
      "loss: 0.3632, acc: 88.88% / test_loss: 0.3655, test_acc: 68.09%\n",
      "Epoch 34 - "
     ]
    },
    {
     "name": "stderr",
     "output_type": "stream",
     "text": [
      "1563it [00:15, 102.62it/s]\n"
     ]
    },
    {
     "name": "stdout",
     "output_type": "stream",
     "text": [
      "loss: 0.4154, acc: 87.58% / test_loss: 0.4109, test_acc: 67.12%\n",
      "Epoch 35 - "
     ]
    },
    {
     "name": "stderr",
     "output_type": "stream",
     "text": [
      "1563it [00:15, 102.49it/s]\n"
     ]
    },
    {
     "name": "stdout",
     "output_type": "stream",
     "text": [
      "loss: 0.3560, acc: 89.34% / test_loss: 0.3894, test_acc: 67.90%\n",
      "Epoch 36 - "
     ]
    },
    {
     "name": "stderr",
     "output_type": "stream",
     "text": [
      "1563it [00:15, 102.78it/s]\n"
     ]
    },
    {
     "name": "stdout",
     "output_type": "stream",
     "text": [
      "loss: 0.4519, acc: 86.62% / test_loss: 0.3690, test_acc: 68.11%\n",
      "Epoch 37 - "
     ]
    },
    {
     "name": "stderr",
     "output_type": "stream",
     "text": [
      "1563it [00:15, 102.64it/s]\n"
     ]
    },
    {
     "name": "stdout",
     "output_type": "stream",
     "text": [
      "loss: 0.3566, acc: 89.19% / test_loss: 0.3442, test_acc: 67.40%\n",
      "Epoch 38 - "
     ]
    },
    {
     "name": "stderr",
     "output_type": "stream",
     "text": [
      "1563it [00:15, 102.69it/s]\n"
     ]
    },
    {
     "name": "stdout",
     "output_type": "stream",
     "text": [
      "loss: 0.3368, acc: 90.17% / test_loss: 0.3683, test_acc: 68.24%\n",
      "Epoch 39 - "
     ]
    },
    {
     "name": "stderr",
     "output_type": "stream",
     "text": [
      "1563it [00:15, 102.12it/s]\n"
     ]
    },
    {
     "name": "stdout",
     "output_type": "stream",
     "text": [
      "loss: 0.3180, acc: 90.68% / test_loss: 0.3541, test_acc: 66.82%\n",
      "Epoch 40 - "
     ]
    },
    {
     "name": "stderr",
     "output_type": "stream",
     "text": [
      "1563it [00:15, 102.96it/s]\n"
     ]
    },
    {
     "name": "stdout",
     "output_type": "stream",
     "text": [
      "loss: 0.3922, acc: 88.32% / test_loss: 0.4126, test_acc: 68.11%\n",
      "Epoch 41 - "
     ]
    },
    {
     "name": "stderr",
     "output_type": "stream",
     "text": [
      "1563it [00:15, 102.95it/s]\n"
     ]
    },
    {
     "name": "stdout",
     "output_type": "stream",
     "text": [
      "loss: 0.3437, acc: 89.89% / test_loss: 0.3751, test_acc: 68.70%\n",
      "Epoch 42 - "
     ]
    },
    {
     "name": "stderr",
     "output_type": "stream",
     "text": [
      "1563it [00:15, 103.34it/s]\n"
     ]
    },
    {
     "name": "stdout",
     "output_type": "stream",
     "text": [
      "loss: 0.3729, acc: 89.28% / test_loss: 0.3748, test_acc: 68.11%\n",
      "Epoch 43 - "
     ]
    },
    {
     "name": "stderr",
     "output_type": "stream",
     "text": [
      "1563it [00:15, 103.32it/s]\n"
     ]
    },
    {
     "name": "stdout",
     "output_type": "stream",
     "text": [
      "loss: 0.3115, acc: 91.00% / test_loss: 0.4389, test_acc: 67.59%\n",
      "Epoch 44 - "
     ]
    },
    {
     "name": "stderr",
     "output_type": "stream",
     "text": [
      "1563it [00:15, 102.97it/s]\n"
     ]
    },
    {
     "name": "stdout",
     "output_type": "stream",
     "text": [
      "loss: 0.3040, acc: 91.34% / test_loss: 0.4407, test_acc: 67.34%\n",
      "Epoch 45 - "
     ]
    },
    {
     "name": "stderr",
     "output_type": "stream",
     "text": [
      "1563it [00:15, 103.07it/s]\n"
     ]
    },
    {
     "name": "stdout",
     "output_type": "stream",
     "text": [
      "loss: 0.3873, acc: 89.02% / test_loss: 0.4212, test_acc: 66.82%\n",
      "Epoch 46 - "
     ]
    },
    {
     "name": "stderr",
     "output_type": "stream",
     "text": [
      "1563it [00:15, 103.02it/s]\n"
     ]
    },
    {
     "name": "stdout",
     "output_type": "stream",
     "text": [
      "loss: 0.4702, acc: 86.18% / test_loss: 0.3971, test_acc: 67.46%\n",
      "Epoch 47 - "
     ]
    },
    {
     "name": "stderr",
     "output_type": "stream",
     "text": [
      "1563it [00:15, 103.02it/s]\n"
     ]
    },
    {
     "name": "stdout",
     "output_type": "stream",
     "text": [
      "loss: 0.3698, acc: 89.18% / test_loss: 0.5113, test_acc: 68.36%\n",
      "Epoch 48 - "
     ]
    },
    {
     "name": "stderr",
     "output_type": "stream",
     "text": [
      "1563it [00:15, 102.97it/s]\n"
     ]
    },
    {
     "name": "stdout",
     "output_type": "stream",
     "text": [
      "loss: 0.4591, acc: 86.51% / test_loss: 0.4116, test_acc: 66.92%\n",
      "Epoch 49 - "
     ]
    },
    {
     "name": "stderr",
     "output_type": "stream",
     "text": [
      "1563it [00:15, 103.01it/s]\n"
     ]
    },
    {
     "name": "stdout",
     "output_type": "stream",
     "text": [
      "loss: 0.3771, acc: 89.24% / test_loss: 0.4078, test_acc: 69.08%\n",
      "Epoch 50 - "
     ]
    },
    {
     "name": "stderr",
     "output_type": "stream",
     "text": [
      "1563it [00:15, 102.67it/s]\n"
     ]
    },
    {
     "name": "stdout",
     "output_type": "stream",
     "text": [
      "loss: 0.3258, acc: 90.86% / test_loss: 0.4623, test_acc: 68.21%\n",
      "Epoch 51 - "
     ]
    },
    {
     "name": "stderr",
     "output_type": "stream",
     "text": [
      "1563it [00:15, 102.87it/s]\n"
     ]
    },
    {
     "name": "stdout",
     "output_type": "stream",
     "text": [
      "loss: 0.4052, acc: 89.85% / test_loss: 0.5867, test_acc: 51.76%\n",
      "Epoch 52 - "
     ]
    },
    {
     "name": "stderr",
     "output_type": "stream",
     "text": [
      "1563it [00:15, 102.95it/s]\n"
     ]
    },
    {
     "name": "stdout",
     "output_type": "stream",
     "text": [
      "loss: 0.7226, acc: 78.39% / test_loss: 0.2579, test_acc: 66.53%\n",
      "Epoch 53 - "
     ]
    },
    {
     "name": "stderr",
     "output_type": "stream",
     "text": [
      "1563it [00:15, 102.89it/s]\n"
     ]
    },
    {
     "name": "stdout",
     "output_type": "stream",
     "text": [
      "loss: 0.3535, acc: 89.70% / test_loss: 0.4867, test_acc: 67.96%\n",
      "Epoch 54 - "
     ]
    },
    {
     "name": "stderr",
     "output_type": "stream",
     "text": [
      "1563it [00:14, 104.94it/s]\n"
     ]
    },
    {
     "name": "stdout",
     "output_type": "stream",
     "text": [
      "loss: 0.3525, acc: 90.52% / test_loss: 0.3673, test_acc: 68.05%\n",
      "Epoch 55 - "
     ]
    },
    {
     "name": "stderr",
     "output_type": "stream",
     "text": [
      "1563it [00:13, 112.80it/s]\n"
     ]
    },
    {
     "name": "stdout",
     "output_type": "stream",
     "text": [
      "loss: 0.3274, acc: 90.97% / test_loss: 0.6249, test_acc: 68.47%\n",
      "Epoch 56 - "
     ]
    },
    {
     "name": "stderr",
     "output_type": "stream",
     "text": [
      "1563it [00:13, 113.07it/s]\n"
     ]
    },
    {
     "name": "stdout",
     "output_type": "stream",
     "text": [
      "loss: 0.2852, acc: 92.20% / test_loss: 0.4686, test_acc: 67.14%\n",
      "Epoch 57 - "
     ]
    },
    {
     "name": "stderr",
     "output_type": "stream",
     "text": [
      "1563it [00:13, 112.98it/s]\n"
     ]
    },
    {
     "name": "stdout",
     "output_type": "stream",
     "text": [
      "loss: 0.3627, acc: 90.32% / test_loss: 0.4676, test_acc: 67.47%\n",
      "Epoch 58 - "
     ]
    },
    {
     "name": "stderr",
     "output_type": "stream",
     "text": [
      "1563it [00:13, 113.08it/s]\n"
     ]
    },
    {
     "name": "stdout",
     "output_type": "stream",
     "text": [
      "loss: 0.9553, acc: 71.13% / test_loss: 0.3021, test_acc: 65.00%\n",
      "Epoch 59 - "
     ]
    },
    {
     "name": "stderr",
     "output_type": "stream",
     "text": [
      "1563it [00:13, 113.06it/s]\n"
     ]
    },
    {
     "name": "stdout",
     "output_type": "stream",
     "text": [
      "loss: 0.4443, acc: 87.52% / test_loss: 0.3213, test_acc: 65.77%\n",
      "Epoch 60 - "
     ]
    },
    {
     "name": "stderr",
     "output_type": "stream",
     "text": [
      "1563it [00:13, 112.79it/s]\n"
     ]
    },
    {
     "name": "stdout",
     "output_type": "stream",
     "text": [
      "loss: 0.3754, acc: 89.60% / test_loss: 0.6603, test_acc: 67.82%\n",
      "Epoch 61 - "
     ]
    },
    {
     "name": "stderr",
     "output_type": "stream",
     "text": [
      "1563it [00:13, 112.83it/s]\n"
     ]
    },
    {
     "name": "stdout",
     "output_type": "stream",
     "text": [
      "loss: 0.8258, acc: 75.20% / test_loss: 0.3163, test_acc: 65.80%\n",
      "Epoch 62 - "
     ]
    },
    {
     "name": "stderr",
     "output_type": "stream",
     "text": [
      "1563it [00:13, 113.09it/s]\n"
     ]
    },
    {
     "name": "stdout",
     "output_type": "stream",
     "text": [
      "loss: 0.4482, acc: 87.29% / test_loss: 0.4434, test_acc: 68.61%\n",
      "Epoch 63 - "
     ]
    },
    {
     "name": "stderr",
     "output_type": "stream",
     "text": [
      "1563it [00:13, 113.21it/s]\n"
     ]
    },
    {
     "name": "stdout",
     "output_type": "stream",
     "text": [
      "loss: 0.3384, acc: 90.94% / test_loss: 0.7012, test_acc: 67.26%\n",
      "Epoch 64 - "
     ]
    },
    {
     "name": "stderr",
     "output_type": "stream",
     "text": [
      "1563it [00:13, 113.20it/s]\n"
     ]
    },
    {
     "name": "stdout",
     "output_type": "stream",
     "text": [
      "loss: 0.3888, acc: 89.54% / test_loss: 0.5024, test_acc: 68.27%\n",
      "Epoch 65 - "
     ]
    },
    {
     "name": "stderr",
     "output_type": "stream",
     "text": [
      "1563it [00:13, 113.19it/s]\n"
     ]
    },
    {
     "name": "stdout",
     "output_type": "stream",
     "text": [
      "loss: 0.5065, acc: 86.46% / test_loss: 0.3388, test_acc: 66.79%\n",
      "Epoch 66 - "
     ]
    },
    {
     "name": "stderr",
     "output_type": "stream",
     "text": [
      "1563it [00:13, 112.92it/s]\n"
     ]
    },
    {
     "name": "stdout",
     "output_type": "stream",
     "text": [
      "loss: 0.4311, acc: 88.13% / test_loss: 0.3933, test_acc: 65.62%\n",
      "Epoch 67 - "
     ]
    },
    {
     "name": "stderr",
     "output_type": "stream",
     "text": [
      "1563it [00:13, 112.80it/s]\n"
     ]
    },
    {
     "name": "stdout",
     "output_type": "stream",
     "text": [
      "loss: 0.3317, acc: 90.95% / test_loss: 0.6326, test_acc: 68.42%\n",
      "Epoch 68 - "
     ]
    },
    {
     "name": "stderr",
     "output_type": "stream",
     "text": [
      "1563it [00:13, 112.62it/s]\n"
     ]
    },
    {
     "name": "stdout",
     "output_type": "stream",
     "text": [
      "loss: 0.4643, acc: 87.64% / test_loss: 0.3963, test_acc: 66.19%\n",
      "Epoch 69 - "
     ]
    },
    {
     "name": "stderr",
     "output_type": "stream",
     "text": [
      "1563it [00:13, 112.52it/s]\n"
     ]
    },
    {
     "name": "stdout",
     "output_type": "stream",
     "text": [
      "loss: 0.3442, acc: 90.84% / test_loss: 0.7053, test_acc: 68.09%\n",
      "Epoch 70 - "
     ]
    },
    {
     "name": "stderr",
     "output_type": "stream",
     "text": [
      "1563it [00:13, 112.67it/s]\n"
     ]
    },
    {
     "name": "stdout",
     "output_type": "stream",
     "text": [
      "loss: 0.4565, acc: 88.59% / test_loss: 0.4315, test_acc: 21.27%\n",
      "Epoch 71 - "
     ]
    },
    {
     "name": "stderr",
     "output_type": "stream",
     "text": [
      "1563it [00:13, 112.91it/s]\n"
     ]
    },
    {
     "name": "stdout",
     "output_type": "stream",
     "text": [
      "loss: 1.4006, acc: 54.31% / test_loss: 0.2668, test_acc: 61.34%\n",
      "Epoch 72 - "
     ]
    },
    {
     "name": "stderr",
     "output_type": "stream",
     "text": [
      "1563it [00:13, 112.83it/s]\n"
     ]
    },
    {
     "name": "stdout",
     "output_type": "stream",
     "text": [
      "loss: 0.7509, acc: 76.99% / test_loss: 0.3459, test_acc: 66.52%\n",
      "Epoch 73 - "
     ]
    },
    {
     "name": "stderr",
     "output_type": "stream",
     "text": [
      "1563it [00:13, 112.67it/s]\n"
     ]
    },
    {
     "name": "stdout",
     "output_type": "stream",
     "text": [
      "loss: 0.8188, acc: 75.88% / test_loss: 0.2837, test_acc: 64.87%\n",
      "Epoch 74 - "
     ]
    },
    {
     "name": "stderr",
     "output_type": "stream",
     "text": [
      "1563it [00:13, 112.57it/s]\n"
     ]
    },
    {
     "name": "stdout",
     "output_type": "stream",
     "text": [
      "loss: 0.5907, acc: 82.47% / test_loss: 0.3520, test_acc: 67.10%\n",
      "Epoch 75 - "
     ]
    },
    {
     "name": "stderr",
     "output_type": "stream",
     "text": [
      "1563it [00:13, 112.73it/s]\n"
     ]
    },
    {
     "name": "stdout",
     "output_type": "stream",
     "text": [
      "loss: 0.9308, acc: 76.09% / test_loss: 0.3032, test_acc: 53.56%\n",
      "Epoch 76 - "
     ]
    },
    {
     "name": "stderr",
     "output_type": "stream",
     "text": [
      "1563it [00:13, 112.67it/s]\n"
     ]
    },
    {
     "name": "stdout",
     "output_type": "stream",
     "text": [
      "loss: 0.9373, acc: 71.40% / test_loss: 0.3259, test_acc: 65.56%\n",
      "Epoch 77 - "
     ]
    },
    {
     "name": "stderr",
     "output_type": "stream",
     "text": [
      "1563it [00:13, 112.77it/s]\n"
     ]
    },
    {
     "name": "stdout",
     "output_type": "stream",
     "text": [
      "loss: 0.5920, acc: 82.89% / test_loss: 0.6090, test_acc: 67.64%\n",
      "Epoch 78 - "
     ]
    },
    {
     "name": "stderr",
     "output_type": "stream",
     "text": [
      "1563it [00:13, 112.94it/s]\n"
     ]
    },
    {
     "name": "stdout",
     "output_type": "stream",
     "text": [
      "loss: 0.8068, acc: 76.17% / test_loss: 0.2734, test_acc: 61.20%\n",
      "Epoch 79 - "
     ]
    },
    {
     "name": "stderr",
     "output_type": "stream",
     "text": [
      "1563it [00:13, 113.12it/s]\n"
     ]
    },
    {
     "name": "stdout",
     "output_type": "stream",
     "text": [
      "loss: 0.5462, acc: 84.04% / test_loss: 0.5086, test_acc: 67.99%\n",
      "Epoch 80 - "
     ]
    },
    {
     "name": "stderr",
     "output_type": "stream",
     "text": [
      "1563it [00:13, 112.97it/s]\n"
     ]
    },
    {
     "name": "stdout",
     "output_type": "stream",
     "text": [
      "loss: 0.4719, acc: 86.73% / test_loss: 0.4725, test_acc: 67.49%\n",
      "Epoch 81 - "
     ]
    },
    {
     "name": "stderr",
     "output_type": "stream",
     "text": [
      "1563it [00:13, 112.79it/s]\n"
     ]
    },
    {
     "name": "stdout",
     "output_type": "stream",
     "text": [
      "loss: 2.2183, acc: 77.85% / test_loss: 0.3176, test_acc: 61.33%\n",
      "Epoch 82 - "
     ]
    },
    {
     "name": "stderr",
     "output_type": "stream",
     "text": [
      "1563it [00:13, 112.88it/s]\n"
     ]
    },
    {
     "name": "stdout",
     "output_type": "stream",
     "text": [
      "loss: 0.7640, acc: 77.42% / test_loss: 0.3305, test_acc: 66.19%\n",
      "Epoch 83 - "
     ]
    },
    {
     "name": "stderr",
     "output_type": "stream",
     "text": [
      "1563it [00:13, 112.82it/s]\n"
     ]
    },
    {
     "name": "stdout",
     "output_type": "stream",
     "text": [
      "loss: 0.5410, acc: 84.76% / test_loss: 0.6146, test_acc: 67.00%\n",
      "Epoch 84 - "
     ]
    },
    {
     "name": "stderr",
     "output_type": "stream",
     "text": [
      "1563it [00:13, 112.80it/s]\n"
     ]
    },
    {
     "name": "stdout",
     "output_type": "stream",
     "text": [
      "loss: 0.4701, acc: 86.93% / test_loss: 0.5575, test_acc: 67.98%\n",
      "Epoch 85 - "
     ]
    },
    {
     "name": "stderr",
     "output_type": "stream",
     "text": [
      "1563it [00:13, 112.88it/s]\n"
     ]
    },
    {
     "name": "stdout",
     "output_type": "stream",
     "text": [
      "loss: 0.6550, acc: 81.93% / test_loss: 0.3005, test_acc: 60.45%\n",
      "Epoch 86 - "
     ]
    },
    {
     "name": "stderr",
     "output_type": "stream",
     "text": [
      "1563it [00:13, 113.06it/s]\n"
     ]
    },
    {
     "name": "stdout",
     "output_type": "stream",
     "text": [
      "loss: 0.6419, acc: 81.49% / test_loss: 0.3832, test_acc: 67.48%\n",
      "Epoch 87 - "
     ]
    },
    {
     "name": "stderr",
     "output_type": "stream",
     "text": [
      "1563it [00:13, 112.62it/s]\n"
     ]
    },
    {
     "name": "stdout",
     "output_type": "stream",
     "text": [
      "loss: 0.5650, acc: 84.71% / test_loss: 0.6001, test_acc: 67.23%\n",
      "Epoch 88 - "
     ]
    },
    {
     "name": "stderr",
     "output_type": "stream",
     "text": [
      "1563it [00:13, 113.10it/s]\n"
     ]
    },
    {
     "name": "stdout",
     "output_type": "stream",
     "text": [
      "loss: 0.5071, acc: 86.14% / test_loss: 0.5059, test_acc: 68.23%\n",
      "Epoch 89 - "
     ]
    },
    {
     "name": "stderr",
     "output_type": "stream",
     "text": [
      "1563it [00:13, 112.96it/s]\n"
     ]
    },
    {
     "name": "stdout",
     "output_type": "stream",
     "text": [
      "loss: 0.5182, acc: 85.98% / test_loss: 0.4254, test_acc: 63.79%\n",
      "Epoch 90 - "
     ]
    },
    {
     "name": "stderr",
     "output_type": "stream",
     "text": [
      "1563it [00:13, 112.87it/s]\n"
     ]
    },
    {
     "name": "stdout",
     "output_type": "stream",
     "text": [
      "loss: 0.4902, acc: 87.12% / test_loss: 0.3779, test_acc: 64.54%\n",
      "Epoch 91 - "
     ]
    },
    {
     "name": "stderr",
     "output_type": "stream",
     "text": [
      "1563it [00:13, 112.92it/s]\n"
     ]
    },
    {
     "name": "stdout",
     "output_type": "stream",
     "text": [
      "loss: 0.5998, acc: 84.06% / test_loss: 0.3915, test_acc: 66.44%\n",
      "Epoch 92 - "
     ]
    },
    {
     "name": "stderr",
     "output_type": "stream",
     "text": [
      "1563it [00:13, 113.02it/s]\n"
     ]
    },
    {
     "name": "stdout",
     "output_type": "stream",
     "text": [
      "loss: 0.3817, acc: 89.69% / test_loss: 0.6369, test_acc: 67.61%\n",
      "Epoch 93 - "
     ]
    },
    {
     "name": "stderr",
     "output_type": "stream",
     "text": [
      "1563it [00:13, 113.20it/s]\n"
     ]
    },
    {
     "name": "stdout",
     "output_type": "stream",
     "text": [
      "loss: 0.5369, acc: 86.08% / test_loss: 0.4267, test_acc: 66.50%\n",
      "Epoch 94 - "
     ]
    },
    {
     "name": "stderr",
     "output_type": "stream",
     "text": [
      "1563it [00:13, 113.05it/s]\n"
     ]
    },
    {
     "name": "stdout",
     "output_type": "stream",
     "text": [
      "loss: 0.4766, acc: 87.57% / test_loss: 0.4937, test_acc: 61.71%\n",
      "Epoch 95 - "
     ]
    },
    {
     "name": "stderr",
     "output_type": "stream",
     "text": [
      "1563it [00:13, 112.94it/s]\n"
     ]
    },
    {
     "name": "stdout",
     "output_type": "stream",
     "text": [
      "loss: 0.7303, acc: 79.11% / test_loss: 2.7812, test_acc: 67.36%\n",
      "Epoch 96 - "
     ]
    },
    {
     "name": "stderr",
     "output_type": "stream",
     "text": [
      "1563it [00:13, 113.17it/s]\n"
     ]
    },
    {
     "name": "stdout",
     "output_type": "stream",
     "text": [
      "loss: 0.7499, acc: 79.67% / test_loss: 0.7329, test_acc: 65.68%\n",
      "Epoch 97 - "
     ]
    },
    {
     "name": "stderr",
     "output_type": "stream",
     "text": [
      "1563it [00:13, 113.09it/s]\n"
     ]
    },
    {
     "name": "stdout",
     "output_type": "stream",
     "text": [
      "loss: 0.4741, acc: 87.11% / test_loss: 0.7241, test_acc: 64.73%\n",
      "Epoch 98 - "
     ]
    },
    {
     "name": "stderr",
     "output_type": "stream",
     "text": [
      "1563it [00:13, 113.16it/s]\n"
     ]
    },
    {
     "name": "stdout",
     "output_type": "stream",
     "text": [
      "loss: 1.3999, acc: 61.35% / test_loss: 0.3444, test_acc: 54.91%\n",
      "Epoch 99 - "
     ]
    },
    {
     "name": "stderr",
     "output_type": "stream",
     "text": [
      "1563it [00:13, 113.24it/s]\n"
     ]
    },
    {
     "name": "stdout",
     "output_type": "stream",
     "text": [
      "loss: 1.1295, acc: 65.03% / test_loss: 0.3116, test_acc: 61.14%\n",
      "Epoch 100 - "
     ]
    },
    {
     "name": "stderr",
     "output_type": "stream",
     "text": [
      "1563it [00:13, 113.42it/s]\n"
     ]
    },
    {
     "name": "stdout",
     "output_type": "stream",
     "text": [
      "loss: 0.9004, acc: 70.87% / test_loss: 0.2955, test_acc: 61.81%\n",
      "Epoch 101 - "
     ]
    },
    {
     "name": "stderr",
     "output_type": "stream",
     "text": [
      "1563it [00:13, 113.33it/s]\n"
     ]
    },
    {
     "name": "stdout",
     "output_type": "stream",
     "text": [
      "loss: 0.7838, acc: 76.99% / test_loss: 0.3961, test_acc: 58.79%\n",
      "Epoch 102 - "
     ]
    },
    {
     "name": "stderr",
     "output_type": "stream",
     "text": [
      "1563it [00:13, 113.26it/s]\n"
     ]
    },
    {
     "name": "stdout",
     "output_type": "stream",
     "text": [
      "loss: 0.6197, acc: 81.97% / test_loss: 0.7276, test_acc: 68.91%\n",
      "Epoch 103 - "
     ]
    },
    {
     "name": "stderr",
     "output_type": "stream",
     "text": [
      "1563it [00:13, 113.08it/s]\n"
     ]
    },
    {
     "name": "stdout",
     "output_type": "stream",
     "text": [
      "loss: 1.2413, acc: 66.75% / test_loss: 0.3462, test_acc: 56.26%\n",
      "Epoch 104 - "
     ]
    },
    {
     "name": "stderr",
     "output_type": "stream",
     "text": [
      "1563it [00:13, 113.11it/s]\n"
     ]
    },
    {
     "name": "stdout",
     "output_type": "stream",
     "text": [
      "loss: 0.8471, acc: 73.83% / test_loss: 0.6509, test_acc: 66.29%\n",
      "Epoch 105 - "
     ]
    },
    {
     "name": "stderr",
     "output_type": "stream",
     "text": [
      "1563it [00:13, 113.28it/s]\n"
     ]
    },
    {
     "name": "stdout",
     "output_type": "stream",
     "text": [
      "loss: 0.7492, acc: 78.86% / test_loss: 0.5462, test_acc: 64.53%\n",
      "Epoch 106 - "
     ]
    },
    {
     "name": "stderr",
     "output_type": "stream",
     "text": [
      "1563it [00:13, 113.19it/s]\n"
     ]
    },
    {
     "name": "stdout",
     "output_type": "stream",
     "text": [
      "loss: 0.6733, acc: 81.22% / test_loss: 0.3146, test_acc: 61.09%\n",
      "Epoch 107 - "
     ]
    },
    {
     "name": "stderr",
     "output_type": "stream",
     "text": [
      "1563it [00:13, 113.24it/s]\n"
     ]
    },
    {
     "name": "stdout",
     "output_type": "stream",
     "text": [
      "loss: 0.5740, acc: 84.60% / test_loss: 0.6692, test_acc: 60.01%\n",
      "Epoch 108 - "
     ]
    },
    {
     "name": "stderr",
     "output_type": "stream",
     "text": [
      "1563it [00:13, 113.06it/s]\n"
     ]
    },
    {
     "name": "stdout",
     "output_type": "stream",
     "text": [
      "loss: 0.7289, acc: 78.92% / test_loss: 1.1166, test_acc: 67.52%\n",
      "Epoch 109 - "
     ]
    },
    {
     "name": "stderr",
     "output_type": "stream",
     "text": [
      "1563it [00:13, 112.95it/s]\n"
     ]
    },
    {
     "name": "stdout",
     "output_type": "stream",
     "text": [
      "loss: 1.2511, acc: 66.04% / test_loss: 0.3774, test_acc: 34.75%\n",
      "Epoch 110 - "
     ]
    },
    {
     "name": "stderr",
     "output_type": "stream",
     "text": [
      "1563it [00:13, 112.80it/s]\n"
     ]
    },
    {
     "name": "stdout",
     "output_type": "stream",
     "text": [
      "loss: 1.4232, acc: 52.13% / test_loss: 0.2810, test_acc: 57.22%\n",
      "Epoch 111 - "
     ]
    },
    {
     "name": "stderr",
     "output_type": "stream",
     "text": [
      "1563it [00:13, 112.70it/s]\n"
     ]
    },
    {
     "name": "stdout",
     "output_type": "stream",
     "text": [
      "loss: 1.3534, acc: 60.94% / test_loss: 0.3714, test_acc: 39.61%\n",
      "Epoch 112 - "
     ]
    },
    {
     "name": "stderr",
     "output_type": "stream",
     "text": [
      "1563it [00:13, 113.02it/s]\n"
     ]
    },
    {
     "name": "stdout",
     "output_type": "stream",
     "text": [
      "loss: 1.6562, acc: 45.07% / test_loss: 0.4226, test_acc: 28.91%\n",
      "Epoch 113 - "
     ]
    },
    {
     "name": "stderr",
     "output_type": "stream",
     "text": [
      "1563it [00:13, 112.98it/s]\n"
     ]
    },
    {
     "name": "stdout",
     "output_type": "stream",
     "text": [
      "loss: 1.3273, acc: 55.86% / test_loss: 0.2782, test_acc: 59.57%\n",
      "Epoch 114 - "
     ]
    },
    {
     "name": "stderr",
     "output_type": "stream",
     "text": [
      "1563it [00:13, 113.03it/s]\n"
     ]
    },
    {
     "name": "stdout",
     "output_type": "stream",
     "text": [
      "loss: 0.9826, acc: 69.83% / test_loss: 0.4923, test_acc: 64.59%\n",
      "Epoch 115 - "
     ]
    },
    {
     "name": "stderr",
     "output_type": "stream",
     "text": [
      "1563it [00:13, 112.77it/s]\n"
     ]
    },
    {
     "name": "stdout",
     "output_type": "stream",
     "text": [
      "loss: 0.9465, acc: 71.35% / test_loss: 0.3237, test_acc: 63.81%\n",
      "Epoch 116 - "
     ]
    },
    {
     "name": "stderr",
     "output_type": "stream",
     "text": [
      "1563it [00:13, 112.98it/s]\n"
     ]
    },
    {
     "name": "stdout",
     "output_type": "stream",
     "text": [
      "loss: 0.9173, acc: 72.25% / test_loss: 1.4152, test_acc: 62.09%\n",
      "Epoch 117 - "
     ]
    },
    {
     "name": "stderr",
     "output_type": "stream",
     "text": [
      "1563it [00:13, 112.91it/s]\n"
     ]
    },
    {
     "name": "stdout",
     "output_type": "stream",
     "text": [
      "loss: 0.9566, acc: 71.77% / test_loss: 0.3010, test_acc: 61.76%\n",
      "Epoch 118 - "
     ]
    },
    {
     "name": "stderr",
     "output_type": "stream",
     "text": [
      "1563it [00:13, 112.80it/s]\n"
     ]
    },
    {
     "name": "stdout",
     "output_type": "stream",
     "text": [
      "loss: 0.7714, acc: 76.70% / test_loss: 0.3498, test_acc: 65.72%\n",
      "Epoch 119 - "
     ]
    },
    {
     "name": "stderr",
     "output_type": "stream",
     "text": [
      "1563it [00:13, 112.88it/s]\n"
     ]
    },
    {
     "name": "stdout",
     "output_type": "stream",
     "text": [
      "loss: 1.5136, acc: 69.97% / test_loss: 0.3438, test_acc: 61.59%\n",
      "Epoch 120 - "
     ]
    },
    {
     "name": "stderr",
     "output_type": "stream",
     "text": [
      "1563it [00:13, 113.11it/s]\n"
     ]
    },
    {
     "name": "stdout",
     "output_type": "stream",
     "text": [
      "loss: 1.1865, acc: 62.16% / test_loss: 0.2830, test_acc: 61.76%\n",
      "Epoch 121 - "
     ]
    },
    {
     "name": "stderr",
     "output_type": "stream",
     "text": [
      "1563it [00:13, 113.25it/s]\n"
     ]
    },
    {
     "name": "stdout",
     "output_type": "stream",
     "text": [
      "loss: 0.9053, acc: 72.34% / test_loss: 0.4185, test_acc: 63.51%\n",
      "Epoch 122 - "
     ]
    },
    {
     "name": "stderr",
     "output_type": "stream",
     "text": [
      "1563it [00:13, 112.91it/s]\n"
     ]
    },
    {
     "name": "stdout",
     "output_type": "stream",
     "text": [
      "loss: 0.7661, acc: 76.88% / test_loss: 0.3974, test_acc: 63.43%\n",
      "Epoch 123 - "
     ]
    },
    {
     "name": "stderr",
     "output_type": "stream",
     "text": [
      "1563it [00:13, 112.82it/s]\n"
     ]
    },
    {
     "name": "stdout",
     "output_type": "stream",
     "text": [
      "loss: 0.6989, acc: 79.26% / test_loss: 0.6688, test_acc: 65.07%\n",
      "Epoch 124 - "
     ]
    },
    {
     "name": "stderr",
     "output_type": "stream",
     "text": [
      "1563it [00:13, 112.71it/s]\n"
     ]
    },
    {
     "name": "stdout",
     "output_type": "stream",
     "text": [
      "loss: 0.6459, acc: 81.28% / test_loss: 0.4899, test_acc: 65.40%\n",
      "Epoch 125 - "
     ]
    },
    {
     "name": "stderr",
     "output_type": "stream",
     "text": [
      "1563it [00:13, 112.76it/s]\n"
     ]
    },
    {
     "name": "stdout",
     "output_type": "stream",
     "text": [
      "loss: 0.6294, acc: 81.84% / test_loss: 2.2265, test_acc: 66.15%\n",
      "Epoch 126 - "
     ]
    },
    {
     "name": "stderr",
     "output_type": "stream",
     "text": [
      "1563it [00:13, 112.81it/s]\n"
     ]
    },
    {
     "name": "stdout",
     "output_type": "stream",
     "text": [
      "loss: 1.0685, acc: 67.88% / test_loss: 0.3657, test_acc: 61.44%\n",
      "Epoch 127 - "
     ]
    },
    {
     "name": "stderr",
     "output_type": "stream",
     "text": [
      "1563it [00:13, 112.68it/s]\n"
     ]
    },
    {
     "name": "stdout",
     "output_type": "stream",
     "text": [
      "loss: 0.7581, acc: 76.28% / test_loss: 0.4764, test_acc: 67.04%\n",
      "Epoch 128 - "
     ]
    },
    {
     "name": "stderr",
     "output_type": "stream",
     "text": [
      "1563it [00:13, 112.75it/s]\n"
     ]
    },
    {
     "name": "stdout",
     "output_type": "stream",
     "text": [
      "loss: 1.7916, acc: 72.38% / test_loss: 0.2917, test_acc: 60.70%\n",
      "Epoch 129 - "
     ]
    },
    {
     "name": "stderr",
     "output_type": "stream",
     "text": [
      "1563it [00:13, 112.98it/s]\n"
     ]
    },
    {
     "name": "stdout",
     "output_type": "stream",
     "text": [
      "loss: 1.1365, acc: 68.63% / test_loss: 0.3449, test_acc: 49.24%\n",
      "Epoch 130 - "
     ]
    },
    {
     "name": "stderr",
     "output_type": "stream",
     "text": [
      "1563it [00:13, 112.87it/s]\n"
     ]
    },
    {
     "name": "stdout",
     "output_type": "stream",
     "text": [
      "loss: 1.1125, acc: 64.11% / test_loss: 0.2724, test_acc: 63.34%\n",
      "Epoch 131 - "
     ]
    },
    {
     "name": "stderr",
     "output_type": "stream",
     "text": [
      "1563it [00:13, 112.72it/s]\n"
     ]
    },
    {
     "name": "stdout",
     "output_type": "stream",
     "text": [
      "loss: 1.0768, acc: 70.86% / test_loss: 0.3262, test_acc: 49.18%\n",
      "Epoch 132 - "
     ]
    },
    {
     "name": "stderr",
     "output_type": "stream",
     "text": [
      "1563it [00:13, 112.01it/s]\n"
     ]
    },
    {
     "name": "stdout",
     "output_type": "stream",
     "text": [
      "loss: 1.1508, acc: 62.31% / test_loss: 0.2946, test_acc: 59.56%\n",
      "Epoch 133 - "
     ]
    },
    {
     "name": "stderr",
     "output_type": "stream",
     "text": [
      "1563it [00:13, 113.06it/s]\n"
     ]
    },
    {
     "name": "stdout",
     "output_type": "stream",
     "text": [
      "loss: 0.9004, acc: 71.71% / test_loss: 0.2942, test_acc: 63.22%\n",
      "Epoch 134 - "
     ]
    },
    {
     "name": "stderr",
     "output_type": "stream",
     "text": [
      "1563it [00:13, 113.34it/s]\n"
     ]
    },
    {
     "name": "stdout",
     "output_type": "stream",
     "text": [
      "loss: 1.0529, acc: 68.75% / test_loss: 0.3101, test_acc: 62.32%\n",
      "Epoch 135 - "
     ]
    },
    {
     "name": "stderr",
     "output_type": "stream",
     "text": [
      "1563it [00:13, 113.52it/s]\n"
     ]
    },
    {
     "name": "stdout",
     "output_type": "stream",
     "text": [
      "loss: 0.8250, acc: 74.93% / test_loss: 1.4903, test_acc: 63.33%\n",
      "Epoch 136 - "
     ]
    },
    {
     "name": "stderr",
     "output_type": "stream",
     "text": [
      "1563it [00:13, 113.80it/s]\n"
     ]
    },
    {
     "name": "stdout",
     "output_type": "stream",
     "text": [
      "loss: 0.8088, acc: 75.62% / test_loss: 0.4509, test_acc: 65.39%\n",
      "Epoch 137 - "
     ]
    },
    {
     "name": "stderr",
     "output_type": "stream",
     "text": [
      "1563it [00:13, 113.57it/s]\n"
     ]
    },
    {
     "name": "stdout",
     "output_type": "stream",
     "text": [
      "loss: 0.9885, acc: 70.66% / test_loss: 0.3579, test_acc: 59.01%\n",
      "Epoch 138 - "
     ]
    },
    {
     "name": "stderr",
     "output_type": "stream",
     "text": [
      "1563it [00:13, 113.58it/s]\n"
     ]
    },
    {
     "name": "stdout",
     "output_type": "stream",
     "text": [
      "loss: 1.4141, acc: 58.46% / test_loss: 0.3093, test_acc: 54.23%\n",
      "Epoch 139 - "
     ]
    },
    {
     "name": "stderr",
     "output_type": "stream",
     "text": [
      "1563it [00:13, 113.45it/s]\n"
     ]
    },
    {
     "name": "stdout",
     "output_type": "stream",
     "text": [
      "loss: 1.0201, acc: 67.25% / test_loss: 0.3025, test_acc: 63.21%\n",
      "Epoch 140 - "
     ]
    },
    {
     "name": "stderr",
     "output_type": "stream",
     "text": [
      "1563it [00:13, 113.47it/s]\n"
     ]
    },
    {
     "name": "stdout",
     "output_type": "stream",
     "text": [
      "loss: 0.8715, acc: 73.95% / test_loss: 0.3486, test_acc: 62.30%\n",
      "Epoch 141 - "
     ]
    },
    {
     "name": "stderr",
     "output_type": "stream",
     "text": [
      "1563it [00:13, 113.14it/s]\n"
     ]
    },
    {
     "name": "stdout",
     "output_type": "stream",
     "text": [
      "loss: 0.7843, acc: 76.55% / test_loss: 3.5935, test_acc: 65.63%\n",
      "Epoch 142 - "
     ]
    },
    {
     "name": "stderr",
     "output_type": "stream",
     "text": [
      "1563it [00:13, 113.47it/s]\n"
     ]
    },
    {
     "name": "stdout",
     "output_type": "stream",
     "text": [
      "loss: 0.8381, acc: 75.05% / test_loss: 0.4531, test_acc: 57.39%\n",
      "Epoch 143 - "
     ]
    },
    {
     "name": "stderr",
     "output_type": "stream",
     "text": [
      "1563it [00:13, 113.26it/s]\n"
     ]
    },
    {
     "name": "stdout",
     "output_type": "stream",
     "text": [
      "loss: 1.0541, acc: 67.21% / test_loss: 0.4544, test_acc: 64.53%\n",
      "Epoch 144 - "
     ]
    },
    {
     "name": "stderr",
     "output_type": "stream",
     "text": [
      "1563it [00:13, 113.72it/s]\n"
     ]
    },
    {
     "name": "stdout",
     "output_type": "stream",
     "text": [
      "loss: 0.7890, acc: 75.86% / test_loss: 0.4442, test_acc: 53.61%\n",
      "Epoch 145 - "
     ]
    },
    {
     "name": "stderr",
     "output_type": "stream",
     "text": [
      "1563it [00:13, 113.24it/s]\n"
     ]
    },
    {
     "name": "stdout",
     "output_type": "stream",
     "text": [
      "loss: 1.0173, acc: 68.90% / test_loss: 0.4595, test_acc: 63.88%\n",
      "Epoch 146 - "
     ]
    },
    {
     "name": "stderr",
     "output_type": "stream",
     "text": [
      "1563it [00:13, 113.21it/s]\n"
     ]
    },
    {
     "name": "stdout",
     "output_type": "stream",
     "text": [
      "loss: 0.7762, acc: 75.94% / test_loss: 0.4945, test_acc: 65.31%\n",
      "Epoch 147 - "
     ]
    },
    {
     "name": "stderr",
     "output_type": "stream",
     "text": [
      "1563it [00:13, 113.23it/s]\n"
     ]
    },
    {
     "name": "stdout",
     "output_type": "stream",
     "text": [
      "loss: 1.5227, acc: 57.54% / test_loss: 0.3307, test_acc: 49.83%\n",
      "Epoch 148 - "
     ]
    },
    {
     "name": "stderr",
     "output_type": "stream",
     "text": [
      "1563it [00:13, 113.45it/s]\n"
     ]
    },
    {
     "name": "stdout",
     "output_type": "stream",
     "text": [
      "loss: 1.1825, acc: 61.45% / test_loss: 0.3584, test_acc: 59.65%\n",
      "Epoch 149 - "
     ]
    },
    {
     "name": "stderr",
     "output_type": "stream",
     "text": [
      "1563it [00:13, 112.92it/s]\n"
     ]
    },
    {
     "name": "stdout",
     "output_type": "stream",
     "text": [
      "loss: 1.5031, acc: 53.83% / test_loss: 0.3144, test_acc: 52.34%\n",
      "Epoch 150 - "
     ]
    },
    {
     "name": "stderr",
     "output_type": "stream",
     "text": [
      "1563it [00:13, 112.91it/s]\n"
     ]
    },
    {
     "name": "stdout",
     "output_type": "stream",
     "text": [
      "loss: 1.2777, acc: 57.60% / test_loss: 0.3291, test_acc: 60.55%\n",
      "Epoch 151 - "
     ]
    },
    {
     "name": "stderr",
     "output_type": "stream",
     "text": [
      "1563it [00:13, 113.21it/s]\n"
     ]
    },
    {
     "name": "stdout",
     "output_type": "stream",
     "text": [
      "loss: 1.0801, acc: 65.92% / test_loss: 0.3206, test_acc: 61.75%\n",
      "Epoch 152 - "
     ]
    },
    {
     "name": "stderr",
     "output_type": "stream",
     "text": [
      "1563it [00:13, 113.19it/s]\n"
     ]
    },
    {
     "name": "stdout",
     "output_type": "stream",
     "text": [
      "loss: 1.0009, acc: 68.07% / test_loss: 0.3891, test_acc: 59.60%\n",
      "Epoch 153 - "
     ]
    },
    {
     "name": "stderr",
     "output_type": "stream",
     "text": [
      "1563it [00:13, 112.93it/s]\n"
     ]
    },
    {
     "name": "stdout",
     "output_type": "stream",
     "text": [
      "loss: 0.7969, acc: 74.38% / test_loss: 0.4407, test_acc: 64.30%\n",
      "Epoch 154 - "
     ]
    },
    {
     "name": "stderr",
     "output_type": "stream",
     "text": [
      "1563it [00:13, 112.74it/s]\n"
     ]
    },
    {
     "name": "stdout",
     "output_type": "stream",
     "text": [
      "loss: 1.0795, acc: 67.10% / test_loss: 0.3394, test_acc: 45.47%\n",
      "Epoch 155 - "
     ]
    },
    {
     "name": "stderr",
     "output_type": "stream",
     "text": [
      "1563it [00:13, 112.75it/s]\n"
     ]
    },
    {
     "name": "stdout",
     "output_type": "stream",
     "text": [
      "loss: 1.2076, acc: 58.70% / test_loss: 0.4834, test_acc: 56.49%\n",
      "Epoch 156 - "
     ]
    },
    {
     "name": "stderr",
     "output_type": "stream",
     "text": [
      "1563it [00:13, 113.03it/s]\n"
     ]
    },
    {
     "name": "stdout",
     "output_type": "stream",
     "text": [
      "loss: 1.0056, acc: 67.49% / test_loss: 0.4425, test_acc: 60.59%\n",
      "Epoch 157 - "
     ]
    },
    {
     "name": "stderr",
     "output_type": "stream",
     "text": [
      "1563it [00:13, 113.30it/s]\n"
     ]
    },
    {
     "name": "stdout",
     "output_type": "stream",
     "text": [
      "loss: 0.9143, acc: 70.77% / test_loss: 0.7601, test_acc: 62.48%\n",
      "Epoch 158 - "
     ]
    },
    {
     "name": "stderr",
     "output_type": "stream",
     "text": [
      "1563it [00:13, 113.12it/s]\n"
     ]
    },
    {
     "name": "stdout",
     "output_type": "stream",
     "text": [
      "loss: 1.2990, acc: 56.88% / test_loss: 0.3166, test_acc: 54.55%\n",
      "Epoch 159 - "
     ]
    },
    {
     "name": "stderr",
     "output_type": "stream",
     "text": [
      "1563it [00:13, 113.36it/s]\n"
     ]
    },
    {
     "name": "stdout",
     "output_type": "stream",
     "text": [
      "loss: 0.9502, acc: 68.34% / test_loss: 0.4257, test_acc: 62.36%\n",
      "Epoch 160 - "
     ]
    },
    {
     "name": "stderr",
     "output_type": "stream",
     "text": [
      "1563it [00:13, 113.29it/s]\n"
     ]
    },
    {
     "name": "stdout",
     "output_type": "stream",
     "text": [
      "loss: 0.9399, acc: 70.83% / test_loss: 0.5865, test_acc: 59.63%\n",
      "Epoch 161 - "
     ]
    },
    {
     "name": "stderr",
     "output_type": "stream",
     "text": [
      "1563it [00:13, 113.11it/s]\n"
     ]
    },
    {
     "name": "stdout",
     "output_type": "stream",
     "text": [
      "loss: 1.0378, acc: 66.74% / test_loss: 0.3310, test_acc: 56.46%\n",
      "Epoch 162 - "
     ]
    },
    {
     "name": "stderr",
     "output_type": "stream",
     "text": [
      "1563it [00:13, 112.60it/s]\n"
     ]
    },
    {
     "name": "stdout",
     "output_type": "stream",
     "text": [
      "loss: 1.3071, acc: 61.30% / test_loss: 0.3610, test_acc: 52.51%\n",
      "Epoch 163 - "
     ]
    },
    {
     "name": "stderr",
     "output_type": "stream",
     "text": [
      "1563it [00:13, 112.94it/s]\n"
     ]
    },
    {
     "name": "stdout",
     "output_type": "stream",
     "text": [
      "loss: 0.8851, acc: 70.71% / test_loss: 0.4135, test_acc: 63.34%\n",
      "Epoch 164 - "
     ]
    },
    {
     "name": "stderr",
     "output_type": "stream",
     "text": [
      "1563it [00:13, 113.16it/s]\n"
     ]
    },
    {
     "name": "stdout",
     "output_type": "stream",
     "text": [
      "loss: 1.1138, acc: 64.30% / test_loss: 0.4874, test_acc: 64.23%\n",
      "Epoch 165 - "
     ]
    },
    {
     "name": "stderr",
     "output_type": "stream",
     "text": [
      "1563it [00:13, 112.92it/s]\n"
     ]
    },
    {
     "name": "stdout",
     "output_type": "stream",
     "text": [
      "loss: 0.9100, acc: 71.81% / test_loss: 0.4505, test_acc: 59.49%\n",
      "Epoch 166 - "
     ]
    },
    {
     "name": "stderr",
     "output_type": "stream",
     "text": [
      "1563it [00:13, 112.53it/s]\n"
     ]
    },
    {
     "name": "stdout",
     "output_type": "stream",
     "text": [
      "loss: 0.8371, acc: 73.34% / test_loss: 1.3509, test_acc: 62.90%\n",
      "Epoch 167 - "
     ]
    },
    {
     "name": "stderr",
     "output_type": "stream",
     "text": [
      "1563it [00:13, 112.49it/s]\n"
     ]
    },
    {
     "name": "stdout",
     "output_type": "stream",
     "text": [
      "loss: 0.8500, acc: 73.40% / test_loss: 0.4162, test_acc: 48.23%\n",
      "Epoch 168 - "
     ]
    },
    {
     "name": "stderr",
     "output_type": "stream",
     "text": [
      "1563it [00:13, 112.69it/s]\n"
     ]
    },
    {
     "name": "stdout",
     "output_type": "stream",
     "text": [
      "loss: 0.9109, acc: 70.97% / test_loss: 0.3396, test_acc: 60.92%\n",
      "Epoch 169 - "
     ]
    },
    {
     "name": "stderr",
     "output_type": "stream",
     "text": [
      "1563it [00:13, 112.51it/s]\n"
     ]
    },
    {
     "name": "stdout",
     "output_type": "stream",
     "text": [
      "loss: 0.9155, acc: 72.04% / test_loss: 0.3644, test_acc: 64.64%\n",
      "Epoch 170 - "
     ]
    },
    {
     "name": "stderr",
     "output_type": "stream",
     "text": [
      "1563it [00:13, 112.85it/s]\n"
     ]
    },
    {
     "name": "stdout",
     "output_type": "stream",
     "text": [
      "loss: 0.8677, acc: 72.08% / test_loss: 0.3396, test_acc: 63.70%\n",
      "Epoch 171 - "
     ]
    },
    {
     "name": "stderr",
     "output_type": "stream",
     "text": [
      "1563it [00:13, 112.65it/s]\n"
     ]
    },
    {
     "name": "stdout",
     "output_type": "stream",
     "text": [
      "loss: 0.7724, acc: 75.52% / test_loss: 0.5130, test_acc: 64.09%\n",
      "Epoch 172 - "
     ]
    },
    {
     "name": "stderr",
     "output_type": "stream",
     "text": [
      "1563it [00:13, 112.81it/s]\n"
     ]
    },
    {
     "name": "stdout",
     "output_type": "stream",
     "text": [
      "loss: 0.6796, acc: 77.86% / test_loss: 0.5858, test_acc: 64.00%\n",
      "Epoch 173 - "
     ]
    },
    {
     "name": "stderr",
     "output_type": "stream",
     "text": [
      "1563it [00:13, 112.67it/s]\n"
     ]
    },
    {
     "name": "stdout",
     "output_type": "stream",
     "text": [
      "loss: 0.8664, acc: 73.54% / test_loss: 0.3445, test_acc: 57.69%\n",
      "Epoch 174 - "
     ]
    },
    {
     "name": "stderr",
     "output_type": "stream",
     "text": [
      "1563it [00:13, 112.54it/s]\n"
     ]
    },
    {
     "name": "stdout",
     "output_type": "stream",
     "text": [
      "loss: 2.1625, acc: 64.12% / test_loss: 0.4233, test_acc: 27.24%\n",
      "Epoch 175 - "
     ]
    },
    {
     "name": "stderr",
     "output_type": "stream",
     "text": [
      "1563it [00:13, 112.55it/s]\n"
     ]
    },
    {
     "name": "stdout",
     "output_type": "stream",
     "text": [
      "loss: 1.6071, acc: 41.91% / test_loss: 0.3568, test_acc: 49.75%\n",
      "Epoch 176 - "
     ]
    },
    {
     "name": "stderr",
     "output_type": "stream",
     "text": [
      "1563it [00:13, 112.85it/s]\n"
     ]
    },
    {
     "name": "stdout",
     "output_type": "stream",
     "text": [
      "loss: 1.1676, acc: 62.03% / test_loss: 0.3218, test_acc: 55.08%\n",
      "Epoch 177 - "
     ]
    },
    {
     "name": "stderr",
     "output_type": "stream",
     "text": [
      "1563it [00:13, 112.31it/s]\n"
     ]
    },
    {
     "name": "stdout",
     "output_type": "stream",
     "text": [
      "loss: 1.0050, acc: 67.50% / test_loss: 0.3857, test_acc: 61.28%\n",
      "Epoch 178 - "
     ]
    },
    {
     "name": "stderr",
     "output_type": "stream",
     "text": [
      "1563it [00:13, 112.49it/s]\n"
     ]
    },
    {
     "name": "stdout",
     "output_type": "stream",
     "text": [
      "loss: 1.1906, acc: 65.05% / test_loss: 0.4240, test_acc: 58.64%\n",
      "Epoch 179 - "
     ]
    },
    {
     "name": "stderr",
     "output_type": "stream",
     "text": [
      "1563it [00:13, 112.70it/s]\n"
     ]
    },
    {
     "name": "stdout",
     "output_type": "stream",
     "text": [
      "loss: 0.9049, acc: 71.17% / test_loss: 0.4261, test_acc: 64.42%\n",
      "Epoch 180 - "
     ]
    },
    {
     "name": "stderr",
     "output_type": "stream",
     "text": [
      "1563it [00:13, 112.58it/s]\n"
     ]
    },
    {
     "name": "stdout",
     "output_type": "stream",
     "text": [
      "loss: 0.9138, acc: 72.49% / test_loss: 0.5393, test_acc: 62.80%\n",
      "Epoch 181 - "
     ]
    },
    {
     "name": "stderr",
     "output_type": "stream",
     "text": [
      "1563it [00:13, 112.58it/s]\n"
     ]
    },
    {
     "name": "stdout",
     "output_type": "stream",
     "text": [
      "loss: 0.8471, acc: 72.59% / test_loss: 0.6196, test_acc: 63.30%\n",
      "Epoch 182 - "
     ]
    },
    {
     "name": "stderr",
     "output_type": "stream",
     "text": [
      "1563it [00:13, 112.69it/s]\n"
     ]
    },
    {
     "name": "stdout",
     "output_type": "stream",
     "text": [
      "loss: 0.9445, acc: 70.32% / test_loss: 0.5183, test_acc: 63.92%\n",
      "Epoch 183 - "
     ]
    },
    {
     "name": "stderr",
     "output_type": "stream",
     "text": [
      "1563it [00:13, 112.78it/s]\n"
     ]
    },
    {
     "name": "stdout",
     "output_type": "stream",
     "text": [
      "loss: 0.9786, acc: 72.25% / test_loss: 0.3883, test_acc: 41.14%\n",
      "Epoch 184 - "
     ]
    },
    {
     "name": "stderr",
     "output_type": "stream",
     "text": [
      "1563it [00:13, 112.77it/s]\n"
     ]
    },
    {
     "name": "stdout",
     "output_type": "stream",
     "text": [
      "loss: 1.1825, acc: 60.96% / test_loss: 0.3415, test_acc: 59.54%\n",
      "Epoch 185 - "
     ]
    },
    {
     "name": "stderr",
     "output_type": "stream",
     "text": [
      "1563it [00:13, 112.09it/s]\n"
     ]
    },
    {
     "name": "stdout",
     "output_type": "stream",
     "text": [
      "loss: 0.8851, acc: 72.79% / test_loss: 0.3761, test_acc: 51.60%\n",
      "Epoch 186 - "
     ]
    },
    {
     "name": "stderr",
     "output_type": "stream",
     "text": [
      "1563it [00:13, 112.91it/s]\n"
     ]
    },
    {
     "name": "stdout",
     "output_type": "stream",
     "text": [
      "loss: 0.9910, acc: 68.14% / test_loss: 0.4480, test_acc: 52.06%\n",
      "Epoch 187 - "
     ]
    },
    {
     "name": "stderr",
     "output_type": "stream",
     "text": [
      "1563it [00:13, 112.81it/s]\n"
     ]
    },
    {
     "name": "stdout",
     "output_type": "stream",
     "text": [
      "loss: 1.1601, acc: 66.37% / test_loss: 0.2963, test_acc: 59.35%\n",
      "Epoch 188 - "
     ]
    },
    {
     "name": "stderr",
     "output_type": "stream",
     "text": [
      "1563it [00:13, 112.69it/s]\n"
     ]
    },
    {
     "name": "stdout",
     "output_type": "stream",
     "text": [
      "loss: 0.9078, acc: 71.27% / test_loss: 0.3656, test_acc: 60.35%\n",
      "Epoch 189 - "
     ]
    },
    {
     "name": "stderr",
     "output_type": "stream",
     "text": [
      "1563it [00:13, 112.66it/s]\n"
     ]
    },
    {
     "name": "stdout",
     "output_type": "stream",
     "text": [
      "loss: 1.1205, acc: 64.97% / test_loss: 0.3196, test_acc: 56.91%\n",
      "Epoch 190 - "
     ]
    },
    {
     "name": "stderr",
     "output_type": "stream",
     "text": [
      "1563it [00:13, 112.34it/s]\n"
     ]
    },
    {
     "name": "stdout",
     "output_type": "stream",
     "text": [
      "loss: 0.8979, acc: 70.93% / test_loss: 0.3107, test_acc: 60.07%\n",
      "Epoch 191 - "
     ]
    },
    {
     "name": "stderr",
     "output_type": "stream",
     "text": [
      "1563it [00:13, 112.48it/s]\n"
     ]
    },
    {
     "name": "stdout",
     "output_type": "stream",
     "text": [
      "loss: 0.8760, acc: 72.28% / test_loss: 1.2057, test_acc: 60.35%\n",
      "Epoch 192 - "
     ]
    },
    {
     "name": "stderr",
     "output_type": "stream",
     "text": [
      "1563it [00:13, 112.57it/s]\n"
     ]
    },
    {
     "name": "stdout",
     "output_type": "stream",
     "text": [
      "loss: 0.7983, acc: 74.30% / test_loss: 1.1367, test_acc: 64.62%\n",
      "Epoch 193 - "
     ]
    },
    {
     "name": "stderr",
     "output_type": "stream",
     "text": [
      "1563it [00:13, 112.88it/s]\n"
     ]
    },
    {
     "name": "stdout",
     "output_type": "stream",
     "text": [
      "loss: 0.8372, acc: 74.18% / test_loss: 0.3665, test_acc: 64.09%\n",
      "Epoch 194 - "
     ]
    },
    {
     "name": "stderr",
     "output_type": "stream",
     "text": [
      "1563it [00:13, 112.69it/s]\n"
     ]
    },
    {
     "name": "stdout",
     "output_type": "stream",
     "text": [
      "loss: 0.8440, acc: 73.40% / test_loss: 0.3538, test_acc: 58.35%\n",
      "Epoch 195 - "
     ]
    },
    {
     "name": "stderr",
     "output_type": "stream",
     "text": [
      "1563it [00:13, 112.66it/s]\n"
     ]
    },
    {
     "name": "stdout",
     "output_type": "stream",
     "text": [
      "loss: 0.8383, acc: 73.85% / test_loss: 0.5229, test_acc: 50.63%\n",
      "Epoch 196 - "
     ]
    },
    {
     "name": "stderr",
     "output_type": "stream",
     "text": [
      "1563it [00:13, 112.56it/s]\n"
     ]
    },
    {
     "name": "stdout",
     "output_type": "stream",
     "text": [
      "loss: 1.2110, acc: 63.86% / test_loss: 0.3163, test_acc: 47.64%\n",
      "Epoch 197 - "
     ]
    },
    {
     "name": "stderr",
     "output_type": "stream",
     "text": [
      "1563it [00:13, 112.59it/s]\n"
     ]
    },
    {
     "name": "stdout",
     "output_type": "stream",
     "text": [
      "loss: 1.0598, acc: 65.00% / test_loss: 0.3312, test_acc: 59.90%\n",
      "Epoch 198 - "
     ]
    },
    {
     "name": "stderr",
     "output_type": "stream",
     "text": [
      "1563it [00:13, 112.68it/s]\n"
     ]
    },
    {
     "name": "stdout",
     "output_type": "stream",
     "text": [
      "loss: 0.9139, acc: 70.38% / test_loss: 0.3586, test_acc: 61.86%\n",
      "Epoch 199 - "
     ]
    },
    {
     "name": "stderr",
     "output_type": "stream",
     "text": [
      "1563it [00:13, 112.72it/s]\n"
     ]
    },
    {
     "name": "stdout",
     "output_type": "stream",
     "text": [
      "loss: 0.9486, acc: 70.64% / test_loss: 0.3526, test_acc: 55.79%\n",
      "Epoch 200 - "
     ]
    },
    {
     "name": "stderr",
     "output_type": "stream",
     "text": [
      "1563it [00:13, 112.87it/s]\n"
     ]
    },
    {
     "name": "stdout",
     "output_type": "stream",
     "text": [
      "loss: 0.9978, acc: 67.27% / test_loss: 0.5586, test_acc: 62.23%\n",
      "Epoch 201 - "
     ]
    },
    {
     "name": "stderr",
     "output_type": "stream",
     "text": [
      "1563it [00:13, 112.90it/s]\n"
     ]
    },
    {
     "name": "stdout",
     "output_type": "stream",
     "text": [
      "loss: 0.8854, acc: 73.28% / test_loss: 0.5543, test_acc: 62.86%\n",
      "Epoch 202 - "
     ]
    },
    {
     "name": "stderr",
     "output_type": "stream",
     "text": [
      "1563it [00:13, 112.94it/s]\n"
     ]
    },
    {
     "name": "stdout",
     "output_type": "stream",
     "text": [
      "loss: 0.8331, acc: 73.61% / test_loss: 0.5391, test_acc: 62.00%\n",
      "Epoch 203 - "
     ]
    },
    {
     "name": "stderr",
     "output_type": "stream",
     "text": [
      "1563it [00:13, 112.73it/s]\n"
     ]
    },
    {
     "name": "stdout",
     "output_type": "stream",
     "text": [
      "loss: 1.3675, acc: 57.94% / test_loss: 0.3159, test_acc: 58.88%\n",
      "Epoch 204 - "
     ]
    },
    {
     "name": "stderr",
     "output_type": "stream",
     "text": [
      "1563it [00:13, 112.66it/s]\n"
     ]
    },
    {
     "name": "stdout",
     "output_type": "stream",
     "text": [
      "loss: 0.8958, acc: 70.85% / test_loss: 0.3394, test_acc: 59.80%\n",
      "Epoch 205 - "
     ]
    },
    {
     "name": "stderr",
     "output_type": "stream",
     "text": [
      "1563it [00:13, 112.44it/s]\n"
     ]
    },
    {
     "name": "stdout",
     "output_type": "stream",
     "text": [
      "loss: 0.9884, acc: 69.50% / test_loss: 0.4961, test_acc: 63.49%\n",
      "Epoch 206 - "
     ]
    },
    {
     "name": "stderr",
     "output_type": "stream",
     "text": [
      "1563it [00:13, 112.50it/s]\n"
     ]
    },
    {
     "name": "stdout",
     "output_type": "stream",
     "text": [
      "loss: 0.9201, acc: 72.08% / test_loss: 0.7743, test_acc: 64.37%\n",
      "Epoch 207 - "
     ]
    },
    {
     "name": "stderr",
     "output_type": "stream",
     "text": [
      "1563it [00:13, 112.68it/s]\n"
     ]
    },
    {
     "name": "stdout",
     "output_type": "stream",
     "text": [
      "loss: 1.2011, acc: 65.58% / test_loss: 0.3151, test_acc: 54.90%\n",
      "Epoch 208 - "
     ]
    },
    {
     "name": "stderr",
     "output_type": "stream",
     "text": [
      "1563it [00:13, 112.77it/s]\n"
     ]
    },
    {
     "name": "stdout",
     "output_type": "stream",
     "text": [
      "loss: 0.9241, acc: 69.22% / test_loss: 0.4693, test_acc: 62.70%\n",
      "Epoch 209 - "
     ]
    },
    {
     "name": "stderr",
     "output_type": "stream",
     "text": [
      "1563it [00:13, 112.73it/s]\n"
     ]
    },
    {
     "name": "stdout",
     "output_type": "stream",
     "text": [
      "loss: 0.8388, acc: 73.71% / test_loss: 0.4328, test_acc: 61.80%\n",
      "Epoch 210 - "
     ]
    },
    {
     "name": "stderr",
     "output_type": "stream",
     "text": [
      "1563it [00:13, 112.75it/s]\n"
     ]
    },
    {
     "name": "stdout",
     "output_type": "stream",
     "text": [
      "loss: 0.8146, acc: 74.45% / test_loss: 0.3487, test_acc: 63.69%\n",
      "Epoch 211 - "
     ]
    },
    {
     "name": "stderr",
     "output_type": "stream",
     "text": [
      "1563it [00:13, 112.54it/s]\n"
     ]
    },
    {
     "name": "stdout",
     "output_type": "stream",
     "text": [
      "loss: 0.8387, acc: 74.80% / test_loss: 0.4577, test_acc: 61.22%\n",
      "Epoch 212 - "
     ]
    },
    {
     "name": "stderr",
     "output_type": "stream",
     "text": [
      "1563it [00:13, 112.67it/s]\n"
     ]
    },
    {
     "name": "stdout",
     "output_type": "stream",
     "text": [
      "loss: 0.8130, acc: 74.51% / test_loss: 0.9121, test_acc: 63.01%\n",
      "Epoch 213 - "
     ]
    },
    {
     "name": "stderr",
     "output_type": "stream",
     "text": [
      "1563it [00:13, 112.50it/s]\n"
     ]
    },
    {
     "name": "stdout",
     "output_type": "stream",
     "text": [
      "loss: 0.9502, acc: 70.90% / test_loss: 1.2677, test_acc: 65.81%\n",
      "Epoch 214 - "
     ]
    },
    {
     "name": "stderr",
     "output_type": "stream",
     "text": [
      "1563it [00:13, 112.68it/s]\n"
     ]
    },
    {
     "name": "stdout",
     "output_type": "stream",
     "text": [
      "loss: 3.1814, acc: 39.77% / test_loss: 0.3649, test_acc: 40.80%\n",
      "Epoch 215 - "
     ]
    },
    {
     "name": "stderr",
     "output_type": "stream",
     "text": [
      "1563it [00:13, 113.23it/s]\n"
     ]
    },
    {
     "name": "stdout",
     "output_type": "stream",
     "text": [
      "loss: 1.6396, acc: 48.87% / test_loss: 0.4057, test_acc: 46.50%\n",
      "Epoch 216 - "
     ]
    },
    {
     "name": "stderr",
     "output_type": "stream",
     "text": [
      "1563it [00:13, 113.13it/s]\n"
     ]
    },
    {
     "name": "stdout",
     "output_type": "stream",
     "text": [
      "loss: 1.3661, acc: 54.01% / test_loss: 0.4115, test_acc: 49.78%\n",
      "Epoch 217 - "
     ]
    },
    {
     "name": "stderr",
     "output_type": "stream",
     "text": [
      "1563it [00:13, 112.86it/s]\n"
     ]
    },
    {
     "name": "stdout",
     "output_type": "stream",
     "text": [
      "loss: 1.1396, acc: 60.45% / test_loss: 0.4555, test_acc: 53.52%\n",
      "Epoch 218 - "
     ]
    },
    {
     "name": "stderr",
     "output_type": "stream",
     "text": [
      "1563it [00:13, 112.59it/s]\n"
     ]
    },
    {
     "name": "stdout",
     "output_type": "stream",
     "text": [
      "loss: 1.0003, acc: 66.79% / test_loss: 0.3398, test_acc: 59.32%\n",
      "Epoch 219 - "
     ]
    },
    {
     "name": "stderr",
     "output_type": "stream",
     "text": [
      "1563it [00:13, 112.66it/s]\n"
     ]
    },
    {
     "name": "stdout",
     "output_type": "stream",
     "text": [
      "loss: 0.7922, acc: 75.44% / test_loss: 0.5028, test_acc: 40.63%\n",
      "Epoch 220 - "
     ]
    },
    {
     "name": "stderr",
     "output_type": "stream",
     "text": [
      "1563it [00:13, 112.62it/s]\n"
     ]
    },
    {
     "name": "stdout",
     "output_type": "stream",
     "text": [
      "loss: 0.9962, acc: 67.96% / test_loss: 0.4484, test_acc: 58.34%\n",
      "Epoch 221 - "
     ]
    },
    {
     "name": "stderr",
     "output_type": "stream",
     "text": [
      "1563it [00:13, 112.92it/s]\n"
     ]
    },
    {
     "name": "stdout",
     "output_type": "stream",
     "text": [
      "loss: 1.2191, acc: 66.51% / test_loss: 0.6352, test_acc: 61.42%\n",
      "Epoch 222 - "
     ]
    },
    {
     "name": "stderr",
     "output_type": "stream",
     "text": [
      "1563it [00:13, 113.05it/s]\n"
     ]
    },
    {
     "name": "stdout",
     "output_type": "stream",
     "text": [
      "loss: 1.6346, acc: 64.02% / test_loss: 0.4168, test_acc: 58.35%\n",
      "Epoch 223 - "
     ]
    },
    {
     "name": "stderr",
     "output_type": "stream",
     "text": [
      "1563it [00:13, 112.97it/s]\n"
     ]
    },
    {
     "name": "stdout",
     "output_type": "stream",
     "text": [
      "loss: 1.1481, acc: 62.82% / test_loss: 0.3785, test_acc: 58.11%\n",
      "Epoch 224 - "
     ]
    },
    {
     "name": "stderr",
     "output_type": "stream",
     "text": [
      "1563it [00:13, 112.86it/s]\n"
     ]
    },
    {
     "name": "stdout",
     "output_type": "stream",
     "text": [
      "loss: 1.1618, acc: 65.31% / test_loss: 0.3087, test_acc: 53.81%\n",
      "Epoch 225 - "
     ]
    },
    {
     "name": "stderr",
     "output_type": "stream",
     "text": [
      "1563it [00:13, 112.91it/s]\n"
     ]
    },
    {
     "name": "stdout",
     "output_type": "stream",
     "text": [
      "loss: 0.9245, acc: 69.97% / test_loss: 0.3589, test_acc: 63.79%\n",
      "Epoch 226 - "
     ]
    },
    {
     "name": "stderr",
     "output_type": "stream",
     "text": [
      "1563it [00:13, 112.82it/s]\n"
     ]
    },
    {
     "name": "stdout",
     "output_type": "stream",
     "text": [
      "loss: 0.9985, acc: 71.57% / test_loss: 0.3994, test_acc: 51.61%\n",
      "Epoch 227 - "
     ]
    },
    {
     "name": "stderr",
     "output_type": "stream",
     "text": [
      "1563it [00:13, 112.68it/s]\n"
     ]
    },
    {
     "name": "stdout",
     "output_type": "stream",
     "text": [
      "loss: 0.8388, acc: 74.05% / test_loss: 0.6426, test_acc: 64.89%\n",
      "Epoch 228 - "
     ]
    },
    {
     "name": "stderr",
     "output_type": "stream",
     "text": [
      "1563it [00:13, 112.90it/s]\n"
     ]
    },
    {
     "name": "stdout",
     "output_type": "stream",
     "text": [
      "loss: 0.9358, acc: 70.91% / test_loss: 0.5355, test_acc: 60.85%\n",
      "Epoch 229 - "
     ]
    },
    {
     "name": "stderr",
     "output_type": "stream",
     "text": [
      "1563it [00:13, 112.89it/s]\n"
     ]
    },
    {
     "name": "stdout",
     "output_type": "stream",
     "text": [
      "loss: 1.0530, acc: 68.23% / test_loss: 0.4552, test_acc: 59.94%\n",
      "Epoch 230 - "
     ]
    },
    {
     "name": "stderr",
     "output_type": "stream",
     "text": [
      "1563it [00:13, 112.79it/s]\n"
     ]
    },
    {
     "name": "stdout",
     "output_type": "stream",
     "text": [
      "loss: 1.0296, acc: 68.07% / test_loss: 0.3539, test_acc: 62.18%\n",
      "Epoch 231 - "
     ]
    },
    {
     "name": "stderr",
     "output_type": "stream",
     "text": [
      "1563it [00:13, 112.92it/s]\n"
     ]
    },
    {
     "name": "stdout",
     "output_type": "stream",
     "text": [
      "loss: 0.8176, acc: 73.75% / test_loss: 0.6530, test_acc: 59.38%\n",
      "Epoch 232 - "
     ]
    },
    {
     "name": "stderr",
     "output_type": "stream",
     "text": [
      "1563it [00:13, 112.42it/s]\n"
     ]
    },
    {
     "name": "stdout",
     "output_type": "stream",
     "text": [
      "loss: 0.8268, acc: 74.10% / test_loss: 0.3914, test_acc: 58.86%\n",
      "Epoch 233 - "
     ]
    },
    {
     "name": "stderr",
     "output_type": "stream",
     "text": [
      "1563it [00:13, 112.69it/s]\n"
     ]
    },
    {
     "name": "stdout",
     "output_type": "stream",
     "text": [
      "loss: 1.0622, acc: 67.14% / test_loss: 0.3654, test_acc: 61.13%\n",
      "Epoch 234 - "
     ]
    },
    {
     "name": "stderr",
     "output_type": "stream",
     "text": [
      "1563it [00:13, 112.65it/s]\n"
     ]
    },
    {
     "name": "stdout",
     "output_type": "stream",
     "text": [
      "loss: 0.8653, acc: 73.30% / test_loss: 0.4362, test_acc: 58.61%\n",
      "Epoch 235 - "
     ]
    },
    {
     "name": "stderr",
     "output_type": "stream",
     "text": [
      "1563it [00:13, 112.77it/s]\n"
     ]
    },
    {
     "name": "stdout",
     "output_type": "stream",
     "text": [
      "loss: 1.0439, acc: 67.89% / test_loss: 0.3711, test_acc: 52.38%\n",
      "Epoch 236 - "
     ]
    },
    {
     "name": "stderr",
     "output_type": "stream",
     "text": [
      "1563it [00:13, 112.74it/s]\n"
     ]
    },
    {
     "name": "stdout",
     "output_type": "stream",
     "text": [
      "loss: 1.2437, acc: 63.11% / test_loss: 0.4918, test_acc: 58.92%\n",
      "Epoch 237 - "
     ]
    },
    {
     "name": "stderr",
     "output_type": "stream",
     "text": [
      "1563it [00:13, 112.90it/s]\n"
     ]
    },
    {
     "name": "stdout",
     "output_type": "stream",
     "text": [
      "loss: 0.9180, acc: 70.90% / test_loss: 0.5990, test_acc: 63.97%\n",
      "Epoch 238 - "
     ]
    },
    {
     "name": "stderr",
     "output_type": "stream",
     "text": [
      "1563it [00:13, 112.99it/s]\n"
     ]
    },
    {
     "name": "stdout",
     "output_type": "stream",
     "text": [
      "loss: 1.1284, acc: 65.36% / test_loss: 0.3921, test_acc: 62.73%\n",
      "Epoch 239 - "
     ]
    },
    {
     "name": "stderr",
     "output_type": "stream",
     "text": [
      "1563it [00:13, 112.65it/s]\n"
     ]
    },
    {
     "name": "stdout",
     "output_type": "stream",
     "text": [
      "loss: 0.9841, acc: 68.64% / test_loss: 0.3534, test_acc: 59.22%\n",
      "Epoch 240 - "
     ]
    },
    {
     "name": "stderr",
     "output_type": "stream",
     "text": [
      "1563it [00:13, 112.93it/s]\n"
     ]
    },
    {
     "name": "stdout",
     "output_type": "stream",
     "text": [
      "loss: 1.3078, acc: 60.62% / test_loss: 0.4922, test_acc: 29.19%\n",
      "Epoch 241 - "
     ]
    },
    {
     "name": "stderr",
     "output_type": "stream",
     "text": [
      "1563it [00:13, 112.75it/s]\n"
     ]
    },
    {
     "name": "stdout",
     "output_type": "stream",
     "text": [
      "loss: 21.4682, acc: 26.09% / test_loss: 0.3739, test_acc: 29.21%\n",
      "Epoch 242 - "
     ]
    },
    {
     "name": "stderr",
     "output_type": "stream",
     "text": [
      "1563it [00:13, 112.61it/s]\n"
     ]
    },
    {
     "name": "stdout",
     "output_type": "stream",
     "text": [
      "loss: 1.7165, acc: 33.65% / test_loss: 0.3666, test_acc: 33.04%\n",
      "Epoch 243 - "
     ]
    },
    {
     "name": "stderr",
     "output_type": "stream",
     "text": [
      "1563it [00:13, 112.70it/s]\n"
     ]
    },
    {
     "name": "stdout",
     "output_type": "stream",
     "text": [
      "loss: 1.6633, acc: 37.00% / test_loss: 0.4044, test_acc: 29.50%\n",
      "Epoch 244 - "
     ]
    },
    {
     "name": "stderr",
     "output_type": "stream",
     "text": [
      "1563it [00:13, 112.93it/s]\n"
     ]
    },
    {
     "name": "stdout",
     "output_type": "stream",
     "text": [
      "loss: 1.6208, acc: 38.78% / test_loss: 0.4827, test_acc: 34.66%\n",
      "Epoch 245 - "
     ]
    },
    {
     "name": "stderr",
     "output_type": "stream",
     "text": [
      "1563it [00:13, 112.94it/s]\n"
     ]
    },
    {
     "name": "stdout",
     "output_type": "stream",
     "text": [
      "loss: 1.5077, acc: 42.09% / test_loss: 0.3526, test_acc: 39.64%\n",
      "Epoch 246 - "
     ]
    },
    {
     "name": "stderr",
     "output_type": "stream",
     "text": [
      "1563it [00:13, 112.72it/s]\n"
     ]
    },
    {
     "name": "stdout",
     "output_type": "stream",
     "text": [
      "loss: 1.5519, acc: 41.02% / test_loss: 0.3927, test_acc: 36.43%\n",
      "Epoch 247 - "
     ]
    },
    {
     "name": "stderr",
     "output_type": "stream",
     "text": [
      "1563it [00:13, 112.90it/s]\n"
     ]
    },
    {
     "name": "stdout",
     "output_type": "stream",
     "text": [
      "loss: 1.4016, acc: 45.81% / test_loss: 0.3584, test_acc: 42.19%\n",
      "Epoch 248 - "
     ]
    },
    {
     "name": "stderr",
     "output_type": "stream",
     "text": [
      "1563it [00:13, 112.75it/s]\n"
     ]
    },
    {
     "name": "stdout",
     "output_type": "stream",
     "text": [
      "loss: 1.4957, acc: 43.65% / test_loss: 0.3932, test_acc: 35.87%\n",
      "Epoch 249 - "
     ]
    },
    {
     "name": "stderr",
     "output_type": "stream",
     "text": [
      "1563it [00:13, 112.64it/s]\n"
     ]
    },
    {
     "name": "stdout",
     "output_type": "stream",
     "text": [
      "loss: 1.4849, acc: 45.21% / test_loss: 0.3705, test_acc: 40.44%\n",
      "Epoch 250 - "
     ]
    },
    {
     "name": "stderr",
     "output_type": "stream",
     "text": [
      "1563it [00:13, 112.77it/s]\n"
     ]
    },
    {
     "name": "stdout",
     "output_type": "stream",
     "text": [
      "loss: 20.8175, acc: 49.56% / test_loss: 0.5223, test_acc: 29.26%\n",
      "Epoch 251 - "
     ]
    },
    {
     "name": "stderr",
     "output_type": "stream",
     "text": [
      "1563it [00:13, 112.66it/s]\n"
     ]
    },
    {
     "name": "stdout",
     "output_type": "stream",
     "text": [
      "loss: 1.6211, acc: 39.83% / test_loss: 0.3578, test_acc: 41.65%\n",
      "Epoch 252 - "
     ]
    },
    {
     "name": "stderr",
     "output_type": "stream",
     "text": [
      "1563it [00:13, 112.75it/s]\n"
     ]
    },
    {
     "name": "stdout",
     "output_type": "stream",
     "text": [
      "loss: 1.4322, acc: 46.24% / test_loss: 0.3430, test_acc: 42.25%\n",
      "Epoch 253 - "
     ]
    },
    {
     "name": "stderr",
     "output_type": "stream",
     "text": [
      "1563it [00:13, 112.63it/s]\n"
     ]
    },
    {
     "name": "stdout",
     "output_type": "stream",
     "text": [
      "loss: 1.5073, acc: 46.30% / test_loss: 0.3543, test_acc: 41.12%\n",
      "Epoch 254 - "
     ]
    },
    {
     "name": "stderr",
     "output_type": "stream",
     "text": [
      "1563it [00:13, 112.81it/s]\n"
     ]
    },
    {
     "name": "stdout",
     "output_type": "stream",
     "text": [
      "loss: 1.3947, acc: 47.25% / test_loss: 0.4058, test_acc: 34.00%\n",
      "Epoch 255 - "
     ]
    },
    {
     "name": "stderr",
     "output_type": "stream",
     "text": [
      "1563it [00:13, 112.63it/s]\n"
     ]
    },
    {
     "name": "stdout",
     "output_type": "stream",
     "text": [
      "loss: 1.4082, acc: 46.59% / test_loss: 0.3803, test_acc: 43.46%\n",
      "Epoch 256 - "
     ]
    },
    {
     "name": "stderr",
     "output_type": "stream",
     "text": [
      "1563it [00:13, 112.63it/s]\n"
     ]
    },
    {
     "name": "stdout",
     "output_type": "stream",
     "text": [
      "loss: 2.0344, acc: 36.91% / test_loss: 0.6387, test_acc: 12.66%\n",
      "Epoch 257 - "
     ]
    },
    {
     "name": "stderr",
     "output_type": "stream",
     "text": [
      "1563it [00:13, 112.91it/s]\n"
     ]
    },
    {
     "name": "stdout",
     "output_type": "stream",
     "text": [
      "loss: 2.5764, acc: 16.76% / test_loss: 0.6590, test_acc: 11.96%\n",
      "Epoch 258 - "
     ]
    },
    {
     "name": "stderr",
     "output_type": "stream",
     "text": [
      "1563it [00:13, 113.00it/s]\n"
     ]
    },
    {
     "name": "stdout",
     "output_type": "stream",
     "text": [
      "loss: 2.3284, acc: 16.67% / test_loss: 0.4610, test_acc: 16.44%\n",
      "Epoch 259 - "
     ]
    },
    {
     "name": "stderr",
     "output_type": "stream",
     "text": [
      "1563it [00:13, 113.20it/s]\n"
     ]
    },
    {
     "name": "stdout",
     "output_type": "stream",
     "text": [
      "loss: 2.1410, acc: 19.65% / test_loss: 0.5038, test_acc: 21.43%\n",
      "Epoch 260 - "
     ]
    },
    {
     "name": "stderr",
     "output_type": "stream",
     "text": [
      "1563it [00:13, 112.89it/s]\n"
     ]
    },
    {
     "name": "stdout",
     "output_type": "stream",
     "text": [
      "loss: 2.0458, acc: 21.13% / test_loss: 0.4103, test_acc: 21.10%\n",
      "Epoch 261 - "
     ]
    },
    {
     "name": "stderr",
     "output_type": "stream",
     "text": [
      "1563it [00:13, 112.89it/s]\n"
     ]
    },
    {
     "name": "stdout",
     "output_type": "stream",
     "text": [
      "loss: 2.3257, acc: 13.97% / test_loss: 0.4697, test_acc: 10.01%\n",
      "Epoch 262 - "
     ]
    },
    {
     "name": "stderr",
     "output_type": "stream",
     "text": [
      "1563it [00:13, 112.80it/s]\n"
     ]
    },
    {
     "name": "stdout",
     "output_type": "stream",
     "text": [
      "loss: 2.3745, acc: 9.70% / test_loss: 0.4655, test_acc: 10.01%\n",
      "Epoch 263 - "
     ]
    },
    {
     "name": "stderr",
     "output_type": "stream",
     "text": [
      "1563it [00:13, 112.92it/s]\n"
     ]
    },
    {
     "name": "stdout",
     "output_type": "stream",
     "text": [
      "loss: 2.3883, acc: 9.71% / test_loss: 0.6089, test_acc: 9.98%\n",
      "Epoch 264 - "
     ]
    },
    {
     "name": "stderr",
     "output_type": "stream",
     "text": [
      "1563it [00:13, 113.02it/s]\n"
     ]
    },
    {
     "name": "stdout",
     "output_type": "stream",
     "text": [
      "loss: 2.4522, acc: 9.59% / test_loss: 0.4632, test_acc: 10.00%\n",
      "Epoch 265 - "
     ]
    },
    {
     "name": "stderr",
     "output_type": "stream",
     "text": [
      "1563it [00:13, 113.06it/s]\n"
     ]
    },
    {
     "name": "stdout",
     "output_type": "stream",
     "text": [
      "loss: 2.3041, acc: 9.60% / test_loss: 0.4651, test_acc: 10.00%\n",
      "Epoch 266 - "
     ]
    },
    {
     "name": "stderr",
     "output_type": "stream",
     "text": [
      "1563it [00:13, 112.93it/s]\n"
     ]
    },
    {
     "name": "stdout",
     "output_type": "stream",
     "text": [
      "loss: 2.3538, acc: 9.59% / test_loss: 0.4690, test_acc: 10.00%\n",
      "Epoch 267 - "
     ]
    },
    {
     "name": "stderr",
     "output_type": "stream",
     "text": [
      "1563it [00:13, 112.52it/s]\n"
     ]
    },
    {
     "name": "stdout",
     "output_type": "stream",
     "text": [
      "loss: 2.3417, acc: 9.61% / test_loss: 0.4611, test_acc: 10.00%\n",
      "Epoch 268 - "
     ]
    },
    {
     "name": "stderr",
     "output_type": "stream",
     "text": [
      "1563it [00:13, 112.41it/s]\n"
     ]
    },
    {
     "name": "stdout",
     "output_type": "stream",
     "text": [
      "loss: 2.3141, acc: 9.62% / test_loss: 0.5104, test_acc: 9.99%\n",
      "Epoch 269 - "
     ]
    },
    {
     "name": "stderr",
     "output_type": "stream",
     "text": [
      "1563it [00:13, 112.56it/s]\n"
     ]
    },
    {
     "name": "stdout",
     "output_type": "stream",
     "text": [
      "loss: 3.4284, acc: 9.61% / test_loss: 0.4611, test_acc: 10.00%\n",
      "Epoch 270 - "
     ]
    },
    {
     "name": "stderr",
     "output_type": "stream",
     "text": [
      "1563it [00:13, 112.63it/s]\n"
     ]
    },
    {
     "name": "stdout",
     "output_type": "stream",
     "text": [
      "loss: 2.3270, acc: 9.57% / test_loss: 0.4622, test_acc: 10.00%\n",
      "Epoch 271 - "
     ]
    },
    {
     "name": "stderr",
     "output_type": "stream",
     "text": [
      "1563it [00:13, 112.79it/s]\n"
     ]
    },
    {
     "name": "stdout",
     "output_type": "stream",
     "text": [
      "loss: 2.3722, acc: 9.64% / test_loss: 0.4615, test_acc: 10.00%\n",
      "Epoch 272 - "
     ]
    },
    {
     "name": "stderr",
     "output_type": "stream",
     "text": [
      "1563it [00:13, 113.29it/s]\n"
     ]
    },
    {
     "name": "stdout",
     "output_type": "stream",
     "text": [
      "loss: 2.3139, acc: 9.64% / test_loss: 0.4611, test_acc: 10.00%\n",
      "Epoch 273 - "
     ]
    },
    {
     "name": "stderr",
     "output_type": "stream",
     "text": [
      "1563it [00:13, 113.34it/s]\n"
     ]
    },
    {
     "name": "stdout",
     "output_type": "stream",
     "text": [
      "loss: 2.3511, acc: 9.65% / test_loss: 0.4611, test_acc: 10.00%\n",
      "Epoch 274 - "
     ]
    },
    {
     "name": "stderr",
     "output_type": "stream",
     "text": [
      "1563it [00:13, 113.05it/s]\n"
     ]
    },
    {
     "name": "stdout",
     "output_type": "stream",
     "text": [
      "loss: 2.3164, acc: 9.61% / test_loss: 0.4611, test_acc: 10.00%\n",
      "Epoch 275 - "
     ]
    },
    {
     "name": "stderr",
     "output_type": "stream",
     "text": [
      "1563it [00:13, 112.72it/s]\n"
     ]
    },
    {
     "name": "stdout",
     "output_type": "stream",
     "text": [
      "loss: 2.3095, acc: 9.63% / test_loss: 0.4611, test_acc: 10.00%\n",
      "Epoch 276 - "
     ]
    },
    {
     "name": "stderr",
     "output_type": "stream",
     "text": [
      "1563it [00:13, 112.71it/s]\n"
     ]
    },
    {
     "name": "stdout",
     "output_type": "stream",
     "text": [
      "loss: 2.3133, acc: 9.64% / test_loss: 0.4611, test_acc: 10.00%\n",
      "Epoch 277 - "
     ]
    },
    {
     "name": "stderr",
     "output_type": "stream",
     "text": [
      "1563it [00:13, 112.71it/s]\n"
     ]
    },
    {
     "name": "stdout",
     "output_type": "stream",
     "text": [
      "loss: 2.3750, acc: 9.64% / test_loss: 0.4611, test_acc: 10.00%\n",
      "Epoch 278 - "
     ]
    },
    {
     "name": "stderr",
     "output_type": "stream",
     "text": [
      "1563it [00:13, 112.45it/s]\n"
     ]
    },
    {
     "name": "stdout",
     "output_type": "stream",
     "text": [
      "loss: 2.3054, acc: 9.66% / test_loss: 0.4611, test_acc: 10.00%\n",
      "Epoch 279 - "
     ]
    },
    {
     "name": "stderr",
     "output_type": "stream",
     "text": [
      "1563it [00:13, 112.99it/s]\n"
     ]
    },
    {
     "name": "stdout",
     "output_type": "stream",
     "text": [
      "loss: 2.3028, acc: 9.65% / test_loss: 0.4611, test_acc: 10.00%\n",
      "Epoch 280 - "
     ]
    },
    {
     "name": "stderr",
     "output_type": "stream",
     "text": [
      "1563it [00:13, 113.02it/s]\n"
     ]
    },
    {
     "name": "stdout",
     "output_type": "stream",
     "text": [
      "loss: 2.3028, acc: 9.65% / test_loss: 0.4636, test_acc: 10.00%\n",
      "Epoch 281 - "
     ]
    },
    {
     "name": "stderr",
     "output_type": "stream",
     "text": [
      "1563it [00:13, 112.84it/s]\n"
     ]
    },
    {
     "name": "stdout",
     "output_type": "stream",
     "text": [
      "loss: 2.3098, acc: 9.65% / test_loss: 0.4611, test_acc: 10.00%\n",
      "Epoch 282 - "
     ]
    },
    {
     "name": "stderr",
     "output_type": "stream",
     "text": [
      "1563it [00:13, 112.50it/s]\n"
     ]
    },
    {
     "name": "stdout",
     "output_type": "stream",
     "text": [
      "loss: 2.3028, acc: 9.64% / test_loss: 0.4611, test_acc: 10.00%\n",
      "Epoch 283 - "
     ]
    },
    {
     "name": "stderr",
     "output_type": "stream",
     "text": [
      "1563it [00:13, 112.58it/s]\n"
     ]
    },
    {
     "name": "stdout",
     "output_type": "stream",
     "text": [
      "loss: 2.3028, acc: 9.64% / test_loss: 0.4611, test_acc: 10.00%\n",
      "Epoch 284 - "
     ]
    },
    {
     "name": "stderr",
     "output_type": "stream",
     "text": [
      "1563it [00:13, 112.46it/s]\n"
     ]
    },
    {
     "name": "stdout",
     "output_type": "stream",
     "text": [
      "loss: 2.3027, acc: 9.64% / test_loss: 0.4611, test_acc: 10.00%\n",
      "Epoch 285 - "
     ]
    },
    {
     "name": "stderr",
     "output_type": "stream",
     "text": [
      "1563it [00:13, 112.62it/s]\n"
     ]
    },
    {
     "name": "stdout",
     "output_type": "stream",
     "text": [
      "loss: 2.3028, acc: 9.64% / test_loss: 0.4611, test_acc: 10.00%\n",
      "Epoch 286 - "
     ]
    },
    {
     "name": "stderr",
     "output_type": "stream",
     "text": [
      "1563it [00:13, 112.83it/s]\n"
     ]
    },
    {
     "name": "stdout",
     "output_type": "stream",
     "text": [
      "loss: 2.3474, acc: 9.63% / test_loss: 0.4611, test_acc: 10.00%\n",
      "Epoch 287 - "
     ]
    },
    {
     "name": "stderr",
     "output_type": "stream",
     "text": [
      "1563it [00:13, 112.87it/s]\n"
     ]
    },
    {
     "name": "stdout",
     "output_type": "stream",
     "text": [
      "loss: 2.3028, acc: 9.65% / test_loss: 0.4611, test_acc: 10.00%\n",
      "Epoch 288 - "
     ]
    },
    {
     "name": "stderr",
     "output_type": "stream",
     "text": [
      "1563it [00:13, 112.86it/s]\n"
     ]
    },
    {
     "name": "stdout",
     "output_type": "stream",
     "text": [
      "loss: 2.3028, acc: 9.65% / test_loss: 0.4611, test_acc: 10.00%\n",
      "Epoch 289 - "
     ]
    },
    {
     "name": "stderr",
     "output_type": "stream",
     "text": [
      "1563it [00:13, 112.75it/s]\n"
     ]
    },
    {
     "name": "stdout",
     "output_type": "stream",
     "text": [
      "loss: 2.3028, acc: 9.65% / test_loss: 0.4611, test_acc: 10.00%\n",
      "Epoch 290 - "
     ]
    },
    {
     "name": "stderr",
     "output_type": "stream",
     "text": [
      "1563it [00:13, 112.32it/s]\n"
     ]
    },
    {
     "name": "stdout",
     "output_type": "stream",
     "text": [
      "loss: 2.3028, acc: 9.65% / test_loss: 0.4611, test_acc: 10.00%\n",
      "Epoch 291 - "
     ]
    },
    {
     "name": "stderr",
     "output_type": "stream",
     "text": [
      "1563it [00:13, 112.62it/s]\n"
     ]
    },
    {
     "name": "stdout",
     "output_type": "stream",
     "text": [
      "loss: 2.3028, acc: 9.65% / test_loss: 0.4611, test_acc: 10.00%\n",
      "Epoch 292 - "
     ]
    },
    {
     "name": "stderr",
     "output_type": "stream",
     "text": [
      "1563it [00:13, 112.61it/s]\n"
     ]
    },
    {
     "name": "stdout",
     "output_type": "stream",
     "text": [
      "loss: 2.4576, acc: 9.60% / test_loss: 0.4612, test_acc: 10.00%\n",
      "Epoch 293 - "
     ]
    },
    {
     "name": "stderr",
     "output_type": "stream",
     "text": [
      "1563it [00:13, 112.57it/s]\n"
     ]
    },
    {
     "name": "stdout",
     "output_type": "stream",
     "text": [
      "loss: 2.3183, acc: 9.61% / test_loss: 0.4663, test_acc: 10.01%\n",
      "Epoch 294 - "
     ]
    },
    {
     "name": "stderr",
     "output_type": "stream",
     "text": [
      "1563it [00:13, 112.59it/s]\n"
     ]
    },
    {
     "name": "stdout",
     "output_type": "stream",
     "text": [
      "loss: 2.3134, acc: 9.64% / test_loss: 0.4614, test_acc: 10.00%\n",
      "Epoch 295 - "
     ]
    },
    {
     "name": "stderr",
     "output_type": "stream",
     "text": [
      "1563it [00:13, 112.65it/s]\n"
     ]
    },
    {
     "name": "stdout",
     "output_type": "stream",
     "text": [
      "loss: 2.3030, acc: 9.65% / test_loss: 0.4611, test_acc: 10.00%\n",
      "Epoch 296 - "
     ]
    },
    {
     "name": "stderr",
     "output_type": "stream",
     "text": [
      "1563it [00:13, 112.63it/s]\n"
     ]
    },
    {
     "name": "stdout",
     "output_type": "stream",
     "text": [
      "loss: 2.3114, acc: 9.64% / test_loss: 0.4611, test_acc: 10.00%\n",
      "Epoch 297 - "
     ]
    },
    {
     "name": "stderr",
     "output_type": "stream",
     "text": [
      "1563it [00:13, 112.59it/s]\n"
     ]
    },
    {
     "name": "stdout",
     "output_type": "stream",
     "text": [
      "loss: 2.3036, acc: 9.63% / test_loss: 0.4611, test_acc: 10.00%\n",
      "Epoch 298 - "
     ]
    },
    {
     "name": "stderr",
     "output_type": "stream",
     "text": [
      "1563it [00:13, 112.53it/s]\n"
     ]
    },
    {
     "name": "stdout",
     "output_type": "stream",
     "text": [
      "loss: 3.0657, acc: 9.64% / test_loss: 0.4611, test_acc: 10.00%\n",
      "Epoch 299 - "
     ]
    },
    {
     "name": "stderr",
     "output_type": "stream",
     "text": [
      "1563it [00:13, 112.88it/s]\n"
     ]
    },
    {
     "name": "stdout",
     "output_type": "stream",
     "text": [
      "loss: 2.3087, acc: 9.63% / test_loss: 0.4617, test_acc: 10.00%\n",
      "Epoch 300 - "
     ]
    },
    {
     "name": "stderr",
     "output_type": "stream",
     "text": [
      "1563it [00:13, 112.83it/s]\n"
     ]
    },
    {
     "name": "stdout",
     "output_type": "stream",
     "text": [
      "loss: 2.3187, acc: 9.65% / test_loss: 0.4614, test_acc: 10.00%\n",
      "Epoch 301 - "
     ]
    },
    {
     "name": "stderr",
     "output_type": "stream",
     "text": [
      "1563it [00:13, 112.66it/s]\n"
     ]
    },
    {
     "name": "stdout",
     "output_type": "stream",
     "text": [
      "loss: 2.3028, acc: 9.66% / test_loss: 0.4611, test_acc: 10.00%\n",
      "Epoch 302 - "
     ]
    },
    {
     "name": "stderr",
     "output_type": "stream",
     "text": [
      "1563it [00:13, 112.78it/s]\n"
     ]
    },
    {
     "name": "stdout",
     "output_type": "stream",
     "text": [
      "loss: 2.3028, acc: 9.65% / test_loss: 0.4611, test_acc: 10.00%\n",
      "Epoch 303 - "
     ]
    },
    {
     "name": "stderr",
     "output_type": "stream",
     "text": [
      "1563it [00:14, 104.80it/s]\n"
     ]
    },
    {
     "name": "stdout",
     "output_type": "stream",
     "text": [
      "loss: 2.3028, acc: 9.65% / test_loss: 0.4611, test_acc: 10.00%\n",
      "Epoch 304 - "
     ]
    },
    {
     "name": "stderr",
     "output_type": "stream",
     "text": [
      "644it [00:22, 98.89it/s] "
     ]
    }
   ],
   "source": [
    "from tqdm import tqdm\n",
    "for e in range(epoch):\n",
    "    print(\"Epoch {} - \".format(e+1), end='')\n",
    "    \n",
    "    for _, batch in tqdm(enumerate(train_loader)):\n",
    "        x, label = batch\n",
    "        x, label = x.to(device), label.to(device)\n",
    "        optimizer.zero_grad()\n",
    "        ecg_client = ecg_client.to(device)\n",
    "        output = ecg_client(x)\n",
    "        client_output = output.clone().detach().requires_grad_(True)\n",
    "        msg = {\n",
    "            'client_output': client_output,\n",
    "            'label': label\n",
    "        }\n",
    "        msg = pickle.dumps(msg)\n",
    "        send_msg(s, msg)\n",
    "        msg = recv_msg(s)\n",
    "        client_grad = pickle.loads(msg)\n",
    "        output.backward(client_grad)\n",
    "        optimizer.step()\n",
    "\n",
    "    # calculate test accuracy\n",
    "    with torch.no_grad():\n",
    "        for _, batch in enumerate(test_loader):\n",
    "            x, label = batch\n",
    "            x, label = x.to(device), label.to(device)\n",
    "            client_output = ecg_client(x)\n",
    "            msg = {\n",
    "                'client_output': client_output,\n",
    "                'label': label\n",
    "            }\n",
    "            msg = pickle.dumps(msg)\n",
    "            send_msg(s, msg)\n",
    "    \n",
    "    msg = recv_msg(s)\n",
    "    train_test_status = pickle.loads(msg)\n",
    "    print(train_test_status)"
   ]
  },
  {
   "cell_type": "code",
   "execution_count": null,
   "metadata": {},
   "outputs": [
    {
     "name": "stdout",
     "output_type": "stream",
     "text": [
      "Finished Training!\n",
      "Result is on the server side.\n"
     ]
    }
   ],
   "source": [
    "print('Finished Training!')\n",
    "print('Result is on the server side.')"
   ]
  }
 ],
 "metadata": {
  "file_extension": ".py",
  "kernelspec": {
   "display_name": "Python 3",
   "language": "python",
   "name": "python3"
  },
  "language_info": {
   "codemirror_mode": {
    "name": "ipython",
    "version": 3
   },
   "file_extension": ".py",
   "mimetype": "text/x-python",
   "name": "python",
   "nbconvert_exporter": "python",
   "pygments_lexer": "ipython3",
   "version": "3.9.17"
  },
  "mimetype": "text/x-python",
  "name": "python",
  "npconvert_exporter": "python",
  "pygments_lexer": "ipython3",
  "version": 3
 },
 "nbformat": 4,
 "nbformat_minor": 2
}
