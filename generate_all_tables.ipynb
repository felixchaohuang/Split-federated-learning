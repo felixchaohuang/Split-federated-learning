{
 "cells": [
  {
   "cell_type": "code",
   "execution_count": 16,
   "metadata": {},
   "outputs": [
    {
     "name": "stderr",
     "output_type": "stream",
     "text": [
      "Traceback (most recent call last):\n",
      "  File \"/usr/local/anaconda3/lib/python3.8/site-packages/pandas/core/indexes/base.py\", line 2895, in get_loc\n",
      "    return self._engine.get_loc(casted_key)\n",
      "  File \"pandas/_libs/index.pyx\", line 70, in pandas._libs.index.IndexEngine.get_loc\n",
      "  File \"pandas/_libs/index.pyx\", line 101, in pandas._libs.index.IndexEngine.get_loc\n",
      "  File \"pandas/_libs/hashtable_class_helper.pxi\", line 1675, in pandas._libs.hashtable.PyObjectHashTable.get_item\n",
      "  File \"pandas/_libs/hashtable_class_helper.pxi\", line 1683, in pandas._libs.hashtable.PyObjectHashTable.get_item\n",
      "KeyError: 'partition'\n",
      "\n",
      "The above exception was the direct cause of the following exception:\n",
      "\n",
      "Traceback (most recent call last):\n",
      "  File \"read_global_model_logs.py\", line 108, in <module>\n",
      "    for partition in stats['partition'].unique():\n",
      "  File \"/usr/local/anaconda3/lib/python3.8/site-packages/pandas/core/frame.py\", line 2902, in __getitem__\n",
      "    indexer = self.columns.get_loc(key)\n",
      "  File \"/usr/local/anaconda3/lib/python3.8/site-packages/pandas/core/indexes/base.py\", line 2897, in get_loc\n",
      "    raise KeyError(key) from err\n",
      "KeyError: 'partition'\n"
     ]
    },
    {
     "ename": "CalledProcessError",
     "evalue": "Command 'python read_global_model_logs.py --filename logs/mobilenetv3_tinyimagenet.csv --alg fedavg --dataset_filter tinyimagenet --partition iid' returned non-zero exit status 1.",
     "output_type": "error",
     "traceback": [
      "\u001b[0;31m---------------------------------------------------------------------------\u001b[0m",
      "\u001b[0;31mCalledProcessError\u001b[0m                        Traceback (most recent call last)",
      "Cell \u001b[0;32mIn[16], line 35\u001b[0m\n\u001b[1;32m     33\u001b[0m \u001b[38;5;28;01mwith\u001b[39;00m \u001b[38;5;28mopen\u001b[39m(\u001b[38;5;124m\"\u001b[39m\u001b[38;5;124moutput_tables.txt\u001b[39m\u001b[38;5;124m\"\u001b[39m, \u001b[38;5;124m\"\u001b[39m\u001b[38;5;124mw\u001b[39m\u001b[38;5;124m\"\u001b[39m) \u001b[38;5;28;01mas\u001b[39;00m file:\n\u001b[1;32m     34\u001b[0m     \u001b[38;5;28;01mfor\u001b[39;00m command \u001b[38;5;129;01min\u001b[39;00m commands:\n\u001b[0;32m---> 35\u001b[0m         output \u001b[38;5;241m=\u001b[39m \u001b[43msubprocess\u001b[49m\u001b[38;5;241;43m.\u001b[39;49m\u001b[43mcheck_output\u001b[49m\u001b[43m(\u001b[49m\u001b[43mcommand\u001b[49m\u001b[43m,\u001b[49m\u001b[43m \u001b[49m\u001b[43mshell\u001b[49m\u001b[38;5;241;43m=\u001b[39;49m\u001b[38;5;28;43;01mTrue\u001b[39;49;00m\u001b[43m,\u001b[49m\u001b[43m \u001b[49m\u001b[43muniversal_newlines\u001b[49m\u001b[38;5;241;43m=\u001b[39;49m\u001b[38;5;28;43;01mTrue\u001b[39;49;00m\u001b[43m)\u001b[49m\n\u001b[1;32m     36\u001b[0m         \u001b[38;5;66;03m# print(output)\u001b[39;00m\n\u001b[1;32m     37\u001b[0m         file\u001b[38;5;241m.\u001b[39mwrite(output)\n",
      "File \u001b[0;32m/Library/Frameworks/Python.framework/Versions/3.11/lib/python3.11/subprocess.py:466\u001b[0m, in \u001b[0;36mcheck_output\u001b[0;34m(timeout, *popenargs, **kwargs)\u001b[0m\n\u001b[1;32m    463\u001b[0m         empty \u001b[38;5;241m=\u001b[39m \u001b[38;5;124mb\u001b[39m\u001b[38;5;124m'\u001b[39m\u001b[38;5;124m'\u001b[39m\n\u001b[1;32m    464\u001b[0m     kwargs[\u001b[38;5;124m'\u001b[39m\u001b[38;5;124minput\u001b[39m\u001b[38;5;124m'\u001b[39m] \u001b[38;5;241m=\u001b[39m empty\n\u001b[0;32m--> 466\u001b[0m \u001b[38;5;28;01mreturn\u001b[39;00m \u001b[43mrun\u001b[49m\u001b[43m(\u001b[49m\u001b[38;5;241;43m*\u001b[39;49m\u001b[43mpopenargs\u001b[49m\u001b[43m,\u001b[49m\u001b[43m \u001b[49m\u001b[43mstdout\u001b[49m\u001b[38;5;241;43m=\u001b[39;49m\u001b[43mPIPE\u001b[49m\u001b[43m,\u001b[49m\u001b[43m \u001b[49m\u001b[43mtimeout\u001b[49m\u001b[38;5;241;43m=\u001b[39;49m\u001b[43mtimeout\u001b[49m\u001b[43m,\u001b[49m\u001b[43m \u001b[49m\u001b[43mcheck\u001b[49m\u001b[38;5;241;43m=\u001b[39;49m\u001b[38;5;28;43;01mTrue\u001b[39;49;00m\u001b[43m,\u001b[49m\n\u001b[1;32m    467\u001b[0m \u001b[43m           \u001b[49m\u001b[38;5;241;43m*\u001b[39;49m\u001b[38;5;241;43m*\u001b[39;49m\u001b[43mkwargs\u001b[49m\u001b[43m)\u001b[49m\u001b[38;5;241m.\u001b[39mstdout\n",
      "File \u001b[0;32m/Library/Frameworks/Python.framework/Versions/3.11/lib/python3.11/subprocess.py:571\u001b[0m, in \u001b[0;36mrun\u001b[0;34m(input, capture_output, timeout, check, *popenargs, **kwargs)\u001b[0m\n\u001b[1;32m    569\u001b[0m     retcode \u001b[38;5;241m=\u001b[39m process\u001b[38;5;241m.\u001b[39mpoll()\n\u001b[1;32m    570\u001b[0m     \u001b[38;5;28;01mif\u001b[39;00m check \u001b[38;5;129;01mand\u001b[39;00m retcode:\n\u001b[0;32m--> 571\u001b[0m         \u001b[38;5;28;01mraise\u001b[39;00m CalledProcessError(retcode, process\u001b[38;5;241m.\u001b[39margs,\n\u001b[1;32m    572\u001b[0m                                  output\u001b[38;5;241m=\u001b[39mstdout, stderr\u001b[38;5;241m=\u001b[39mstderr)\n\u001b[1;32m    573\u001b[0m \u001b[38;5;28;01mreturn\u001b[39;00m CompletedProcess(process\u001b[38;5;241m.\u001b[39margs, retcode, stdout, stderr)\n",
      "\u001b[0;31mCalledProcessError\u001b[0m: Command 'python read_global_model_logs.py --filename logs/mobilenetv3_tinyimagenet.csv --alg fedavg --dataset_filter tinyimagenet --partition iid' returned non-zero exit status 1."
     ]
    }
   ],
   "source": [
    "import subprocess\n",
    "\n",
    "commands = [\n",
    "# # \"python read_global_model_logs.py --filename logs/resnet_18_100_users.csv --alg fedavg --dataset_filter cifar10 --partition iid\",\n",
    "# # \"python read_global_model_logs.py --filename logs/resnet_18_100_users.csv --alg fedavg --dataset_filter cifar10 --partition noniid-labeldir\",\n",
    "# \"python read_global_model_logs.py --filename logs/resnet_18_100_users.csv --alg sflv1 --dataset_filter cifar10 --partition iid\",\n",
    "# \"python read_global_model_logs.py --filename logs/resnet_18_100_users.csv --alg sflv1 --dataset_filter cifar10 --partition noniid-labeldir\",\n",
    "# \"python read_global_model_logs.py --filename logs/resnet_18_100_users.csv --alg sflv2 --dataset_filter cifar10 --partition iid\",\n",
    "# \"python read_global_model_logs.py --filename logs/resnet_18_100_users.csv --alg sflv2 --dataset_filter cifar10 --partition noniid-labeldir\",\n",
    "\n",
    "# # \"python read_global_model_logs.py --filename logs/resnet_50_100_users_300_epochs.csv --alg fedavg --dataset_filter cifar100 --partition iid\",\n",
    "# # \"python read_global_model_logs.py --filename logs/resnet_50_100_users_300_epochs.csv --alg fedavg --dataset_filter cifar100 --partition noniid-labeldir\",\n",
    "# # \"python read_global_model_logs.py --filename logs/resnet_50_100_users_300_epochs.csv --alg sflv1 --dataset_filter cifar100 --partition iid\",\n",
    "# \"python read_global_model_logs.py --filename logs/resnet_50_100_users_300_epochs.csv --alg sflv1 --dataset_filter cifar100 --partition noniid-labeldir\",\n",
    "# # \"python read_global_model_logs.py --filename logs/resnet_50_100_users_300_epochs.csv --alg sflv2 --dataset_filter cifar100 --partition iid\",\n",
    "# \"python read_global_model_logs.py --filename logs/resnet_50_100_users_300_epochs.csv --alg sflv2 --dataset_filter cifar100 --partition noniid-labeldir\",\n",
    "\n",
    "\"python read_global_model_logs.py --filename logs/mobilenetv3_tinyimagenet.csv --alg fedavg --dataset_filter tinyimagenet --partition iid\",\n",
    "# \"python read_global_model_logs.py --filename logs/mobilenetv3_tinyimagenet.csv --alg fedavg --dataset_filter tinyimagenet --partition noniid-labeldir\",\n",
    "# \"python read_global_model_logs.py --filename logs/mobilenetv3_tinyimagenet.csv --alg sflv1 --dataset_filter tinyimagenet --partition iid\",\n",
    "# \"python read_global_model_logs.py --filename logs/mobilenetv3_tinyimagenet.csv --alg sflv1 --dataset_filter tinyimagenet --partition noniid-labeldir\",\n",
    "# \"python read_global_model_logs.py --filename logs/mobilenetv3_tinyimagenet.csv --alg sflv2 --dataset_filter tinyimagenet --partition iid\",\n",
    "# \"python read_global_model_logs.py --filename logs/mobilenetv3_tinyimagenet.csv --alg sflv2 --dataset_filter tinyimagenet --partition noniid-labeldir\",\n",
    "\n",
    "# \"python read_global_model_logs.py --filename logs/resnet18_ham.csv --alg fedavg --dataset_filter ham10000 --partition iid\",\n",
    "# \"python read_global_model_logs.py --filename logs/resnet18_ham.csv --alg fedavg --dataset_filter ham10000 --partition noniid-labeldir\",\n",
    "# \"python read_global_model_logs.py --filename logs/resnet18_ham.csv --alg sflv1 --dataset_filter ham10000 --partition iid\",\n",
    "# \"python read_global_model_logs.py --filename logs/resnet18_ham.csv --alg sflv1 --dataset_filter ham10000 --partition noniid-labeldir\",\n",
    "# \"python read_global_model_logs.py --filename logs/resnet18_ham.csv --alg sflv2 --dataset_filter ham10000 --partition iid\",\n",
    "# \"python read_global_model_logs.py --filename logs/resnet18_ham.csv --alg sflv2 --dataset_filter ham10000 --partition noniid-labeldir\",\n",
    "]\n",
    "\n",
    "with open(\"output_tables.txt\", \"w\") as file:\n",
    "    for command in commands:\n",
    "        output = subprocess.check_output(command, shell=True, universal_newlines=True)\n",
    "        # print(output)\n",
    "        file.write(output)\n",
    "        file.write(\"\\n\")"
   ]
  }
 ],
 "metadata": {
  "kernelspec": {
   "display_name": "Python 3",
   "language": "python",
   "name": "python3"
  },
  "language_info": {
   "codemirror_mode": {
    "name": "ipython",
    "version": 3
   },
   "file_extension": ".py",
   "mimetype": "text/x-python",
   "name": "python",
   "nbconvert_exporter": "python",
   "pygments_lexer": "ipython3",
   "version": "3.11.1"
  }
 },
 "nbformat": 4,
 "nbformat_minor": 2
}
